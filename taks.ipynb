{
 "cells": [
  {
   "cell_type": "markdown",
   "metadata": {},
   "source": [
    "# Task 1: Binary Represnetations\n"
   ]
  },
  {
   "cell_type": "markdown",
   "metadata": {},
   "source": [
    " *An unsigned integer is a 32-bit datum that encodes a nonnegative integer in the range [0 to 4294967295]."
   ]
  },
  {
   "cell_type": "markdown",
   "metadata": {},
   "source": [
    "### Left Rotation \n",
    "`rotl` rotates the bits in a 32-bit unsigned integer `x` to the left by `n` places."
   ]
  },
  {
   "cell_type": "code",
   "execution_count": 24,
   "metadata": {},
   "outputs": [],
   "source": [
    "def rotl(x, n=1):\n",
    "\n",
    "    # This is to ensure x is a 32-bit unsigned integer\n",
    "    x = x & 0xFFFFFFFF \n",
    "\n",
    "    #This is to ensure n is within the range of 0 to 31\n",
    "    n = n % 32\n",
    "    \n",
    "    return ((x << n) | (x >> (32 - n))) & 0xFFFFFFFF # Return the result of rotationg x left by n bits"
   ]
  },
  {
   "cell_type": "markdown",
   "metadata": {},
   "source": [
    "### Example:"
   ]
  },
  {
   "cell_type": "code",
   "execution_count": 25,
   "metadata": {},
   "outputs": [
    {
     "name": "stdout",
     "output_type": "stream",
     "text": [
      "00000000000000000000000000000101\n",
      "00000000000000000000000000001010\n"
     ]
    }
   ],
   "source": [
    "# Left rotation \n",
    "x = 5\n",
    "print(format(x, '032b')) # 5 in 32 bits\n",
    "\n",
    "# Rotate 5 to the left by 1\n",
    "print(format(rotl(x), '032b'))"
   ]
  },
  {
   "cell_type": "markdown",
   "metadata": {},
   "source": [
    "### Right Rotation\n",
    "`rotr` rotates the bits in a 32-bit unsigned integer `x` to the right `n` places."
   ]
  },
  {
   "cell_type": "code",
   "execution_count": null,
   "metadata": {},
   "outputs": [],
   "source": [
    "def rotr(x, n=1):\n",
    "    \n",
    "    # This is to ensure x is a 32-bit unsigned integer\n",
    "    x = x & 0xFFFFFFFF \n",
    "\n",
    "    #This is to ensure n is within the range of 0 to 31\n",
    "    n = n % 32\n",
    "    return ((x >> n) | (x << (32 - n))) & 0xFFFFFFFF # Return the result of rotationg x right"
   ]
  },
  {
   "cell_type": "markdown",
   "metadata": {},
   "source": [
    "### Example:"
   ]
  },
  {
   "cell_type": "code",
   "execution_count": 23,
   "metadata": {},
   "outputs": [
    {
     "name": "stdout",
     "output_type": "stream",
     "text": [
      "00000000000000000000000000000010\n",
      "00000000000000000000000000000001\n"
     ]
    }
   ],
   "source": [
    "x = 2\n",
    "print(format(x, '032b')) # 2 in 32 bits\n",
    "\n",
    "# Rotate 2 to the right by 1\n",
    "print(format(rotr(x), '032b'))"
   ]
  },
  {
   "cell_type": "markdown",
   "metadata": {},
   "source": [
    "### Choice Function (ch)\n",
    "The `ch(x,y,z)` function choose bits from `y` where `x` is 1, and bits from `z` where `x` is 0.\n",
    "\n",
    "Formula: `ch(x,y,z) = (x & y) ^ (~x & z)`"
   ]
  },
  {
   "cell_type": "code",
   "execution_count": 40,
   "metadata": {},
   "outputs": [],
   "source": [
    "def ch(x, y, z):\n",
    "    \n",
    "    # Is to ensure all inputs are 32-bit unsigned integers\n",
    "    x = x & 0xFFFFFFFF # selector\n",
    "    y = y & 0xFFFFFFFF\n",
    "    z = z & 0xFFFFFFFF\n",
    "\n",
    "    return ((x & y) ^ (~x & z)) & 0xFFFFFFFF # Return the result of the choice function"
   ]
  },
  {
   "cell_type": "markdown",
   "metadata": {},
   "source": [
    "#### Pattern 1\n",
    "Hex: `0xFF00FF00`  \n",
    "Binary: `11111111 00000000 11111111 00000000`\n",
    "\n",
    "#### Pattern 2\n",
    "Hex: `0xAAAAAAAA`  \n",
    "Binary: `10101010 10101010 10101010 10101010`\n",
    "\n",
    "#### Pattern 3\n",
    "Hex: `0x55555555`  \n",
    "Binary: `01010101 01010101 01010101 01010101"
   ]
  },
  {
   "cell_type": "code",
   "execution_count": null,
   "metadata": {},
   "outputs": [
    {
     "name": "stdout",
     "output_type": "stream",
     "text": [
      "Test ch function:\n",
      "x: 11111111000000001111111100000000\n",
      "y: 10101010101010101010101010101010\n",
      "z: 01010101010101010101010101010101\n",
      "r: 10101010010101011010101001010101\n"
     ]
    }
   ],
   "source": [
    "x = 0xFF00FF00  # Pattern of 1s and 0s\n",
    "y = 0xAAAAAAAA  # Pattern for bits selected by 1s in x\n",
    "z = 0x55555555  # Pattern for bits selected by 0s in x\n",
    "\n",
    "result = ch(x, y, z)\n",
    "print(f\"x: {format(x, '032b')}\")\n",
    "print(f\"y: {format(y, '032b')}\")\n",
    "print(f\"z: {format(z, '032b')}\")\n",
    "print(f\"r: {format(result, '032b')}\")"
   ]
  }
 ],
 "metadata": {
  "kernelspec": {
   "display_name": "Python 3",
   "language": "python",
   "name": "python3"
  },
  "language_info": {
   "codemirror_mode": {
    "name": "ipython",
    "version": 3
   },
   "file_extension": ".py",
   "mimetype": "text/x-python",
   "name": "python",
   "nbconvert_exporter": "python",
   "pygments_lexer": "ipython3",
   "version": "3.12.1"
  }
 },
 "nbformat": 4,
 "nbformat_minor": 2
}
