{
 "cells": [
  {
   "cell_type": "code",
   "execution_count": 6,
   "metadata": {},
   "outputs": [],
   "source": [
    "import random\n",
    "import string\n",
    "import matplotlib.pyplot as plt\n",
    "import numpy as np\n",
    "import math\n",
    "import hashlib\n",
    "import os"
   ]
  },
  {
   "cell_type": "markdown",
   "metadata": {},
   "source": [
    "# Task 1: Binary Represnetations\n"
   ]
  },
  {
   "cell_type": "markdown",
   "metadata": {},
   "source": [
    " *An unsigned integer is a 32-bit datum that encodes a nonnegative integer in the range [0 to 4294967295]."
   ]
  },
  {
   "cell_type": "markdown",
   "metadata": {},
   "source": [
    "### Left Rotation \n",
    "`rotl` rotates the bits in a 32-bit unsigned integer `x` to the left by `n` places."
   ]
  },
  {
   "cell_type": "code",
   "execution_count": 4,
   "metadata": {},
   "outputs": [],
   "source": [
    "# Reference: https://nvlpubs.nist.gov/nistpubs/FIPS/NIST.FIPS.180-4.pdf\n",
    "# Section 3.2 Operations on Words\n",
    "\n",
    "def rotl(x, n=1):\n",
    "\n",
    "    # This is to ensure x is a 32-bit unsigned integer\n",
    "    x = x & 0xFFFFFFFF \n",
    "\n",
    "    #This is to ensure n is within the range of 0 to 31\n",
    "    n = n % 32\n",
    "    \n",
    "    return ((x << n) | (x >> (32 - n))) & 0xFFFFFFFF # Return the result of rotationg x left by n bits"
   ]
  },
  {
   "cell_type": "markdown",
   "metadata": {},
   "source": [
    "### Example:"
   ]
  },
  {
   "cell_type": "code",
   "execution_count": 5,
   "metadata": {},
   "outputs": [
    {
     "name": "stdout",
     "output_type": "stream",
     "text": [
      "00000000000000000000000000000101\n",
      "00000000000000000000000000001010\n"
     ]
    }
   ],
   "source": [
    "# Left rotation \n",
    "x = 5\n",
    "print(format(x, '032b')) # 5 in 32 bits\n",
    "\n",
    "# Rotate 5 to the left by 1\n",
    "print(format(rotl(x), '032b'))"
   ]
  },
  {
   "cell_type": "markdown",
   "metadata": {},
   "source": [
    "### Right Rotation\n",
    "`rotr` rotates the bits in a 32-bit unsigned integer `x` to the right `n` places."
   ]
  },
  {
   "cell_type": "code",
   "execution_count": 6,
   "metadata": {},
   "outputs": [],
   "source": [
    "# Reference: https://nvlpubs.nist.gov/nistpubs/FIPS/NIST.FIPS.180-4.pdf\n",
    "# Section 3.2 Operations on Words\n",
    "\n",
    "def rotr(x, n=1):\n",
    "    \n",
    "    # This is to ensure x is a 32-bit unsigned integer\n",
    "    x = x & 0xFFFFFFFF \n",
    "\n",
    "    #This is to ensure n is within the range of 0 to 31\n",
    "    n = n % 32\n",
    "    return ((x >> n) | (x << (32 - n))) & 0xFFFFFFFF # Return the result of rotationg x right"
   ]
  },
  {
   "cell_type": "markdown",
   "metadata": {},
   "source": [
    "### Example:"
   ]
  },
  {
   "cell_type": "code",
   "execution_count": 7,
   "metadata": {},
   "outputs": [
    {
     "name": "stdout",
     "output_type": "stream",
     "text": [
      "00000000000000000000000000000010\n",
      "00000000000000000000000000000001\n"
     ]
    }
   ],
   "source": [
    "x = 2\n",
    "print(format(x, '032b')) # 2 in 32 bits\n",
    "\n",
    "# Rotate 2 to the right by 1\n",
    "print(format(rotr(x), '032b'))"
   ]
  },
  {
   "cell_type": "markdown",
   "metadata": {},
   "source": [
    "### Choice Function (ch)\n",
    "The `ch(x,y,z)` function choose bits from `y` where `x` is 1, and bits from `z` where `x` is 0.\n",
    "\n",
    "Formula: `ch(x,y,z) = (x & y) ^ (~x & z)`"
   ]
  },
  {
   "cell_type": "code",
   "execution_count": 8,
   "metadata": {},
   "outputs": [],
   "source": [
    "# Reference: https://nvlpubs.nist.gov/nistpubs/FIPS/NIST.FIPS.180-4.pdf\n",
    "# Section 4.1.1 SHA-1 Functions\n",
    "def ch(x, y, z):\n",
    "    \n",
    "    # Is to ensure all inputs are 32-bit unsigned integers\n",
    "    x = x & 0xFFFFFFFF # selector\n",
    "    y = y & 0xFFFFFFFF\n",
    "    z = z & 0xFFFFFFFF\n",
    "\n",
    "    return ((x & y) ^ (~x & z)) & 0xFFFFFFFF # Return the result of the choice function"
   ]
  },
  {
   "cell_type": "markdown",
   "metadata": {},
   "source": [
    "#### Pattern 1\n",
    "Hex: `0xFF00FF00`  \n",
    "Binary: `11111111 00000000 11111111 00000000`\n",
    "\n",
    "#### Pattern 2\n",
    "Hex: `0xAAAAAAAA`  \n",
    "Binary: `10101010 10101010 10101010 10101010`\n",
    "\n",
    "#### Pattern 3\n",
    "Hex: `0x55555555`  \n",
    "Binary: `01010101 01010101 01010101 01010101"
   ]
  },
  {
   "cell_type": "code",
   "execution_count": 9,
   "metadata": {},
   "outputs": [
    {
     "name": "stdout",
     "output_type": "stream",
     "text": [
      "x: 11111111000000001111111100000000\n",
      "y: 10101010101010101010101010101010\n",
      "z: 01010101010101010101010101010101\n",
      "r: 10101010010101011010101001010101\n"
     ]
    }
   ],
   "source": [
    "x = 0xFF00FF00  # Pattern of 1s and 0s\n",
    "y = 0xAAAAAAAA  # Pattern for bits selected by 1s in x\n",
    "z = 0x55555555  # Pattern for bits selected by 0s in x\n",
    "\n",
    "result = ch(x, y, z)\n",
    "print(f\"x: {format(x, '032b')}\")\n",
    "print(f\"y: {format(y, '032b')}\")\n",
    "print(f\"z: {format(z, '032b')}\")\n",
    "print(f\"r: {format(result, '032b')}\")"
   ]
  },
  {
   "cell_type": "markdown",
   "metadata": {},
   "source": [
    "### Majority Function (maj)\n",
    "The `maj(x,y,z)` function performs a bitwise majority vote. For each bit position, the output is 1 if at least two of the corresponding bits in x, y, and z are 1.\n",
    "\n",
    "Formula: `maj(x,y,z) = (x & y) ^ (x & z) ^ (y & z)`"
   ]
  },
  {
   "cell_type": "code",
   "execution_count": 10,
   "metadata": {},
   "outputs": [],
   "source": [
    "# Reference: https://nvlpubs.nist.gov/nistpubs/FIPS/NIST.FIPS.180-4.pdf\n",
    "# Section 4.1.1 SHA-1 Functions\n",
    "def maj(x, y, z):\n",
    "    # Ensure all inputs are 32-bit unsigned integers\n",
    "    x = x & 0xFFFFFFFF\n",
    "    y = y & 0xFFFFFFFF\n",
    "    z = z & 0xFFFFFFFF\n",
    "    \n",
    "    return ((x & y) ^ (x & z) ^ (y & z)) & 0xFFFFFFFF"
   ]
  },
  {
   "cell_type": "code",
   "execution_count": 11,
   "metadata": {},
   "outputs": [
    {
     "name": "stdout",
     "output_type": "stream",
     "text": [
      "x: 11111111000000001111111100000000\n",
      "y: 10101010101010101010101010101010\n",
      "z: 01010101010101010101010101010101\n",
      "r: 11111111000000001111111100000000\n"
     ]
    }
   ],
   "source": [
    "# Test maj function with the same patterns as ch\n",
    "x = 0xFF00FF00  # Pattern 1\n",
    "y = 0xAAAAAAAA  # Pattern 2\n",
    "z = 0x55555555  # Pattern 3\n",
    "\n",
    "result = maj(x, y, z)\n",
    "print(f\"x: {format(x, '032b')}\")\n",
    "print(f\"y: {format(y, '032b')}\")\n",
    "print(f\"z: {format(z, '032b')}\")\n",
    "print(f\"r: {format(result, '032b')}\")"
   ]
  },
  {
   "cell_type": "markdown",
   "metadata": {},
   "source": [
    "# Task 2: Hash Functions\n",
    "\n",
    "In this task, I've implemented the hash function from *The C Programming Language* by Brian Kernighan and Dennis Ritchie (K&R), converting it from C to Python.\n",
    "\n",
    "### Implementation Details\n",
    "\n",
    "The original C function:\n",
    "```c\n",
    "unsigned hash(char *s) {\n",
    "    unsigned hashval;\n",
    "    for (hashval = 0; *s != '\\0'; s++)\n",
    "        hashval = *s + 31 * hashval;\n",
    "    return hashval % 101;\n",
    "}"
   ]
  },
  {
   "cell_type": "code",
   "execution_count": 12,
   "metadata": {},
   "outputs": [
    {
     "name": "stdout",
     "output_type": "stream",
     "text": [
      "17\n"
     ]
    }
   ],
   "source": [
    "\"\"\"\n",
    "This function converts a string to an integer hash value using a polynomial rolling hash technique.\n",
    "Args: s (str): Input string to be hashed\n",
    "Returns: int: Hash value between 0 and 100 (inclusive)\n",
    "\"\"\"\n",
    "def hash_function(s):\n",
    "    hashval = 0\n",
    "    # Iterate through each character in the string\n",
    "    for char in s:\n",
    "        # Update hash by multiplying previous value by 31 and adding ASCII value of current character\n",
    "        hashval = ord(char) + 31 * hashval\n",
    "    # Take modulo 101 to keep the hash value within a fixed range\n",
    "    return hashval % 101\n",
    "\n",
    "# Test with the string \"hello\"\n",
    "print(hash_function(\"hello\"))    "
   ]
  },
  {
   "cell_type": "markdown",
   "metadata": {},
   "source": [
    "**Why 31 and 101?**\n",
    "1. **The Multiplier (31)**:\n",
    "    - 31 is a prime number, which helps in distributing hash values more uniformly\n",
    "    - It's close to a power of 2 (32 = 2⁵), which makes multiplication efficient: `31 * n = (32 * n) - n = (n << 5) - n`\n",
    "    - Empirical tests have shown that 31 produces fewer collisions compared to other small integers\n",
    "    - This number has become a de facto standard in many hash implementations (e.g., Java's `String.hashCode()`)\n",
    "\n",
    "2. **The Modulus (101)**:\n",
    "    - 101 is a prime number, which helps in creating a more uniform distribution of hash values\n",
    "    - Using a prime modulus reduces the chance of systematic patterns causing collisions\n",
    "    - The value 101 creates a hash table of reasonable size (101 buckets) for the original use case in K&R\n",
    "    - Prime moduli generally provide better distribution properties than composite numbers"
   ]
  },
  {
   "cell_type": "markdown",
   "metadata": {},
   "source": [
    "## References\n",
    "\n",
    "1. **Kernighan, B. W., & Ritchie, D. M. (1988).** *The C Programming Language (2nd ed.).* Prentice Hall.\n",
    "   - Original source of the hash function implementation discussed in this task\n",
    "\n",
    "2. **Gupta, P. (2008).** \"Why Do Hash Functions Use Prime Numbers?\" Computing Life.\n",
    "   - [https://computinglife.wordpress.com/2008/11/20/why-do-hash-functions-use-prime-numbers/](https://computinglife.wordpress.com/2008/11/20/why-do-hash-functions-use-prime-numbers/)\n",
    "\n",
    "These two references provide both the historical context and the mathematical justification for the specific values used in the hash function, which directly addresses the task requirement to \"suggest why the values 31 and 101 are used."
   ]
  },
  {
   "cell_type": "code",
   "execution_count": 13,
   "metadata": {},
   "outputs": [
    {
     "name": "stdout",
     "output_type": "stream",
     "text": [
      "Hash of 'hello': 17\n",
      "Hash of 'world': 34\n",
      "Hash of 'hello world': 13\n",
      "Hash of 'computational': 42\n",
      "Hash of 'theory': 77\n",
      "Hash of '': 0\n"
     ]
    }
   ],
   "source": [
    "# Test with additional examples\n",
    "test_strings = [\"hello\", \"world\", \"hello world\", \"computational\", \"theory\", \"\"]\n",
    "for s in test_strings:\n",
    "    print(f\"Hash of '{s}': {hash_function(s)}\")"
   ]
  },
  {
   "cell_type": "code",
   "execution_count": 14,
   "metadata": {},
   "outputs": [
    {
     "name": "stdout",
     "output_type": "stream",
     "text": [
      "\n",
      "Number of unique hash values: 101\n",
      "Number of hash values with collisions: 101\n",
      "Total number of collisions: 899\n"
     ]
    }
   ],
   "source": [
    "\"\"\"\n",
    "1. Testing the hash function with several example strings\n",
    "2. Testing for collisions with a larger set of 1000 random strings\n",
    "3. Analyzing and visualizing the distribution of hash values\n",
    "These tests demonstrate how the hash function behaves in practice, which is important for explaining why the values 31 and 101 are used. \n",
    "\"\"\"\n",
    "# Check for collisions in a larger set\n",
    "\n",
    "\n",
    "def generate_random_string(length):\n",
    "    \"\"\"Generate a random string of fixed length\"\"\"\n",
    "    letters = string.ascii_lowercase\n",
    "    return ''.join(random.choice(letters) for _ in range(length))\n",
    "\n",
    "# Generate 1000 random strings and count collisions\n",
    "random.seed(42)  # For reproducibility\n",
    "strings = [generate_random_string(5) for _ in range(1000)]\n",
    "hashes = [hash_function(s) for s in strings]\n",
    "\n",
    "# Count occurrences of each hash value\n",
    "hash_counts = {}\n",
    "for h in hashes:\n",
    "    if h in hash_counts:\n",
    "        hash_counts[h] += 1\n",
    "    else:\n",
    "        hash_counts[h] = 1\n",
    "\n",
    "# Find collisions (hash values with more than one string)\n",
    "collisions = {h: count for h, count in hash_counts.items() if count > 1}\n",
    "\n",
    "print(f\"\\nNumber of unique hash values: {len(hash_counts)}\")\n",
    "print(f\"Number of hash values with collisions: {len(collisions)}\")\n",
    "print(f\"Total number of collisions: {sum(count-1 for count in collisions.values())}\")"
   ]
  },
  {
   "cell_type": "markdown",
   "metadata": {},
   "source": [
    "The collision testing is particularly valuable as it shows:\n",
    "- How many unique hash values are produced\n",
    "- How many hash values have collisions\n",
    "- The total number of collisions that occur\n",
    "\n",
    "This empirical evidence helps support your explanation about why prime numbers like 31 and 101 are good choices for hash functions."
   ]
  },
  {
   "cell_type": "code",
   "execution_count": 15,
   "metadata": {},
   "outputs": [
    {
     "data": {
      "image/png": "[encoded data removed]",
      "text/plain": [
       "<Figure size 1200x600 with 1 Axes>"
      ]
     },
     "metadata": {},
     "output_type": "display_data"
    }
   ],
   "source": [
    "\"\"\"The visualization shows how well the hash values are distributed across the available range, which relates \n",
    "    directly to the efficiency of the hash function.\n",
    "\"\"\"\n",
    "plt.figure(figsize=(12, 6))\n",
    "plt.hist(hashes, bins=np.arange(0, 102) - 0.5, edgecolor='black', alpha=0.7)\n",
    "plt.title('Distribution of Hash Values')\n",
    "plt.xlabel('Hash Value')\n",
    "plt.ylabel('Frequency')\n",
    "plt.xticks(range(0, 101, 5))\n",
    "plt.grid(axis='y', alpha=0.3)\n",
    "plt.tight_layout()\n",
    "plt.show()"
   ]
  },
  {
   "cell_type": "markdown",
   "metadata": {},
   "source": [
    "**Limitations**\n",
    "\n",
    "This hash function has several limitations:\n",
    "- The small range(0-100) means collisions are inevitable with larger input sets\n",
    "- The alogorithm is simple and doesnt cause the small changes in input causing large changes in output.\n",
    "- For very long strings, integer overflow might be a concern in languages with fixed-size integers."
   ]
  },
  {
   "cell_type": "markdown",
   "metadata": {},
   "source": [
    "**Real-world Applications**\n",
    "\n",
    "This hash function was designed for hash tables in C programs where:\n",
    "- Speed is more important than cryptographic security\n",
    "- The data set size is relatively small compared to the hash table size\n",
    "- A simple implementation is preferred over complex algorithms."
   ]
  },
  {
   "cell_type": "markdown",
   "metadata": {},
   "source": [
    "# Task 3: SHA256 Padding\n",
    "\n",
    "SHA-256 is part of the SHA-2 cryptographic hash functions family designed by the NSA. The padding scheme is critical to the security of the hash function, as it ensures messages of different lengths produce fixed-size digests through a well-defined process."
   ]
  },
  {
   "cell_type": "markdown",
   "metadata": {},
   "source": [
    "### Padding Algorithm Explanation\n",
    "\n",
    "The SHA-256 padding scheme follows these steps:\n",
    "\n",
    "1. **Append a '1' bit**: The algorithm starts by appending a single '1' bit to the message.\n",
    "\n",
    "2. **Append '0' bits**: Next, enough '0' bits are appended so that the length of the message (in bits) becomes congruent to 448 modulo 512. This ensures that after padding, the message length is exactly 64 bits (8 bytes) short of being a multiple of 512 bits.\n",
    "\n",
    "3. **Append length**: Finally, the original message length (before padding) is appended as a 64-bit big-endian integer.\n",
    "\n",
    "The resulting padded message will have a length that is an exact multiple of 512 bits, which is necessary for the SHA-256 hash algorithm to process the message in fixed-size blocks.\n"
   ]
  },
  {
   "cell_type": "markdown",
   "metadata": {},
   "source": [
    "### Implementation Details\n",
    "\n",
    "In the implementation:\n",
    "\n",
    "- We read the file content in binary mode to handle any file type\n",
    "- We calculate the original length in bits (8 bits per byte)\n",
    "- We start the padding with 0x80 (binary 10000000), which represents the required '1' bit followed by 7 '0' bits\n",
    "- We calculate how many additional zero bytes are needed to reach the required length\n",
    "- We append the original message length as a 64-bit big-endian integer"
   ]
  },
  {
   "cell_type": "code",
   "execution_count": 16,
   "metadata": {},
   "outputs": [],
   "source": [
    "\"\"\"\n",
    "    Calculate the SHA-256 padding that would be applied to a file.\n",
    "    \n",
    "    Args:\n",
    "        file_path (str): Path to the file to calculate padding for\n",
    "        \n",
    "    Returns:\n",
    "        bytes: The padding that would be applied to the file\n",
    "        \n",
    "    According to FIPS 180-4 (Secure Hash Standard), the padding consists of:\n",
    "    1. A '1' bit\n",
    "    2. Enough '0' bits so the total message length in bits is congruent to 448 modulo 512\n",
    "    3. The original message length as a 64-bit big-endian integer\n",
    "    \"\"\"\n",
    "def calculate_sha256_padding(file_path):\n",
    "    # Read the file contents\n",
    "    try:\n",
    "        with open(file_path, 'rb') as file:\n",
    "            content = file.read()\n",
    "    except FileNotFoundError:\n",
    "        print(f\"Error: File '{file_path}' not found.\")\n",
    "        return None\n",
    "    except Exception as e:\n",
    "        print(f\"Error reading file: {e}\")\n",
    "        return None\n",
    "    \n",
    "    # Calculate the length of the original message in bits\n",
    "    original_length_bits = len(content) * 8\n",
    "\n",
    "    # Calculate the padding\n",
    "    # Start with the mandatory '1' bit (as a byte 0x80 = binary 10000000)\n",
    "    padding = bytearray([0x80])\n",
    "\n",
    "    # Calculate how many zero bytes we need\n",
    "    # We need the final message length to be a multiple of 512 bits (64 bytes)\n",
    "    # The last 8 bytes are reserved for the length field\n",
    "    # So we need: original_length + 1 + padding_zeros + 8 ≡ 0 (mod 64)\n",
    "    # Therefore: padding_zeros = 64 - ((original_length + 1 + 8) % 64)\n",
    "    # If the result is 64, we set it to 0 (already a multiple of 64)\n",
    "    padding_zeros = 56 - (len(content) + 1) % 64 # 56 = 64 - 8\n",
    "    if padding_zeros < 0:\n",
    "        padding_zeros += 64 # Ensure positive \n",
    "    \n",
    "    # Add the zero bytes\n",
    "    padding.extend([0] * padding_zeros)\n",
    "\n",
    "    # Add the original length as a 64-bit big-endian integer\n",
    "    # Convert original length to 8 bytes (64 bits)\n",
    "    length_bytes = original_length_bits.to_bytes(8, byteorder='big')\n",
    "    padding.extend(length_bytes)\n",
    "\n",
    "    return bytes(padding)\n",
    "\n"
   ]
  },
  {
   "cell_type": "markdown",
   "metadata": {},
   "source": [
    "### Example Calculation\n",
    "\n",
    "For the string \"abc\":\n",
    "- Original length: 3 bytes = 24 bits\n",
    "- After adding the '1' bit (as byte 0x80): 4 bytes\n",
    "- After adding zero padding to reach 56 bytes (448 bits): 56 bytes\n",
    "- After adding the length field (8 bytes): 64 bytes = 512 bits\n",
    "\n",
    "This gives us exactly one 512-bit block for the SHA-256 algorithm to process."
   ]
  },
  {
   "cell_type": "code",
   "execution_count": 17,
   "metadata": {},
   "outputs": [],
   "source": [
    "\"\"\"\n",
    "    Print the padding bytes in hexadecimal format, with 26 bytes per line.\n",
    "    \n",
    "    Args:\n",
    "        padding (bytes): The padding bytes to print\n",
    "\"\"\"\n",
    "def print_padding_hex(padding):\n",
    "    if padding is None:\n",
    "        return\n",
    "    \n",
    "    # Format each byte as a two-character hex string (e.g., '80' for byte 128)\n",
    "    hex_values = [f\"{b:02X}\" for b in padding]\n",
    "    \n",
    "    # Print 26 bytes per line as in the example\n",
    "    line_length = 26\n",
    "    for i in range(0, len(hex_values), line_length):\n",
    "        line = hex_values[i:i+line_length]\n",
    "        print(\" \".join(line))"
   ]
  },
  {
   "cell_type": "code",
   "execution_count": 18,
   "metadata": {},
   "outputs": [
    {
     "name": "stdout",
     "output_type": "stream",
     "text": [
      "SHA-256 padding for a file containing 'abc':\n",
      "80 00 00 00 00 00 00 00 00 00 00 00 00 00 00 00 00 00 00 00 00 00 00 00 00 00\n",
      "00 00 00 00 00 00 00 00 00 00 00 00 00 00 00 00 00 00 00 00 00 00 00 00 00 00\n",
      "00 00 00 00 00 00 00 00 18\n"
     ]
    }
   ],
   "source": [
    "# Calculate and print the padding\n",
    "print(\"SHA-256 padding for a file containing 'abc':\")\n",
    "padding = calculate_sha256_padding('./temp.txt')\n",
    "print_padding_hex(padding)\n"
   ]
  },
  {
   "cell_type": "markdown",
   "metadata": {},
   "source": [
    "### References\n",
    "\n",
    "1. **National Institute of Standards and Technology (2015).** *FIPS PUB 180-4: Secure Hash Standard (SHS)*. [https://doi.org/10.6028/NIST.FIPS.180-4](https://doi.org/10.6028/NIST.FIPS.180-4)\n",
    "   - Official specification for the SHA-256 algorithm including the padding scheme\n"
   ]
  },
  {
   "cell_type": "markdown",
   "metadata": {},
   "source": [
    "# Task 4: Prime Numbers"
   ]
  },
  {
   "cell_type": "markdown",
   "metadata": {},
   "source": [
    "### Algorithm 1: Trial Division\n",
    "\n",
    "The simplest approach to finding prime numbers is trial division. For each number, we check if it's divisible by any integer from 2 up to the square root of that number. If no such divisor is found, the number is prime."
   ]
  },
  {
   "cell_type": "code",
   "execution_count": 19,
   "metadata": {},
   "outputs": [
    {
     "name": "stdout",
     "output_type": "stream",
     "text": [
      "True\n",
      "False\n"
     ]
    }
   ],
   "source": [
    "\n",
    "def is_prime_trial_division(n):\n",
    "    \"\"\"\n",
    "    Check if a number is prime using trial division algorithm.\n",
    "    \n",
    "    Args:\n",
    "        n (int): The number to check\n",
    "        \n",
    "    Returns:\n",
    "        bool: True if the number is prime, False otherwise\n",
    "    \"\"\"\n",
    "    if n <= 1:\n",
    "        return False\n",
    "    if n <= 3:\n",
    "        return True\n",
    "    if n % 2 == 0 or n %  3 == 0:\n",
    "        return False\n",
    "    \n",
    "    for i in range(5, int(math.sqrt(n)) + 1, 2):\n",
    "        if n % i == 0:\n",
    "            return False\n",
    "    \n",
    "    return True\n",
    "\n",
    "print(is_prime_trial_division(29))  \n",
    "print(is_prime_trial_division(30))"
   ]
  },
  {
   "cell_type": "markdown",
   "metadata": {},
   "source": [
    "**How it works:**\n",
    "- Prime numbers are **greater than 1**\n",
    "- If `n` is **less than 2**, it's automatically not prime.\n",
    "- 2 and 3 are prime numbers\n",
    "- Even numbers (except `2`) are not prime (e.g., 4, 6, 8, 10)\n",
    "- Multiples of `3` (except `3` itself) are not prime (e.g., 9, 15, 21)\n",
    "- Check up to $\\sqrt{n}$:\n",
    "    - If `n` is not prime, it must have a factor $\\leq$ $\\sqrt{n}$\n",
    "    - Example: $36 = 6 \\times 6$, Only need to check up to `6`\n",
    "- Start from `5` and skip even numbers?\n",
    "    - Already checked `2` and `3`, so only need to check **odd numbers** `(5, 7, 9,11, 13, ...)`\n",
    "    - The `range(5, sqrt(n) + 1, 2)` skips even numbers, reducing computations by 50%\n",
    "- If no factors are found up to $\\sqrt{n}$, then `n` is prime\n",
    "\n",
    "**Advantages:**\n",
    "- Work wells for checking individual numbers\n",
    "- Memory efficient (constant space complexity)\n",
    "\n",
    "**Disadvantages:**\n",
    "- Inefficient for finding multiple primes\n",
    "- Time complexity of $O(\\sqrt{n})$ when finding n primes\n"
   ]
  },
  {
   "cell_type": "markdown",
   "metadata": {},
   "source": [
    "### Algorithm 2: Sieve of Eratosthenes\n",
    "\n",
    "The Sieve of Eratosthenes is an ancient algorithm for finding all prime numbers up to any given limit. It works by iteratively marking as composite (non-prime) the multiples of each prime, starting from 2. The multiples of a given prime are generated starting from the prime itself, as a sequence of numbers with the same difference, equal to that prime.\n",
    "\n",
    "This algorithm is much more efficient than trial division when finding multiple prime numbers within a range."
   ]
  },
  {
   "cell_type": "code",
   "execution_count": 20,
   "metadata": {},
   "outputs": [
    {
     "name": "stdout",
     "output_type": "stream",
     "text": [
      "[2, 3, 5, 7, 11, 13, 17, 19, 23, 29, 31, 37, 41, 43, 47]\n"
     ]
    }
   ],
   "source": [
    "def sieve_of_eratosthenes(n):\n",
    "    \"\"\"\n",
    "    Find all prime numbers up to a given limit using the Sieve of Eratosthenes.\n",
    "    \n",
    "    Args:\n",
    "        limit (int): Upper bound of range to check for primes\n",
    "        \n",
    "    Returns:\n",
    "        list: All prime numbers up to the limit\n",
    "    \"\"\"\n",
    "    is_prime = [True] * (n + 1)  # Step 1\n",
    "    is_prime[0], is_prime[1] = False, False  # 0 and 1 are not prime\n",
    "    \n",
    "    for i in range(2, int(n**0.5) + 1):  # Step 5: Loop up to sqrt(n)\n",
    "        if is_prime[i]:  # If i is still marked as prime\n",
    "            for j in range(i * i, n + 1, i):  # Step 3: Mark multiples of i\n",
    "                is_prime[j] = False\n",
    "\n",
    "    # Collecting the prime numbers\n",
    "    primes = [i for i in range(n + 1) if is_prime[i]]\n",
    "    return primes\n",
    "\n",
    "# Example usage\n",
    "n = 50\n",
    "print(sieve_of_eratosthenes(n))"
   ]
  },
  {
   "cell_type": "markdown",
   "metadata": {},
   "source": [
    "**How it works:**\n",
    "- Create a list is_prime of size `n+1`, where every index initially holds True.\n",
    "- Purpose of this list is to track whether a number is prime (`True`) or not (`False`)\n",
    "- Explicitly set `is_prime[0]` and `is_prime[1]` to False because **0 and 1 are not prime**.\n",
    "- Loop through numbers starting from 2 up to $\\sqrt{n}$\n",
    "- **Why up to $\\sqrt{n}$ ?**:\n",
    "    - If a number $n$ is **not** prime, it **must** have a factor $a \\leq b$ $\\sqrt{n}$\n",
    "    - Example: If $n = 36$, its smallest factor greater than $\\sqrt{36} = 6$ is 6 itself, meaning all smaller factors would already be checked.\n",
    "    - Thus, it is sufficient to check up to $\\sqrt{n}$ to find all prime numbers.\n",
    "\n",
    "- If `i` is still marked `True`, it means `i` is prime.\n",
    "- Mark all multiples of `i` as `False`, starting from $i^2$ (since any smaller multiple would have already been marked by a smaller prime).\n",
    "- **Why start from $i^2$?**\n",
    "    - Because smaller multiplies of `i` (like $2 \\times i, 3 \\times i$) would hav ealready been marked by previous prime numbers.\n",
    "    - Example: For `i = 5`, numbers 10, 15, 20 were already marked when processing `i = 2` and `i = 3`, so we start at $5^2 = 25$\n",
    "- Go through the list `is_prime` and collect all indices that are still `True` (these are the prime numbers).\n",
    "- Final output is a list of all primes up to `n`"
   ]
  },
  {
   "cell_type": "markdown",
   "metadata": {},
   "source": [
    "**Advantages:**\n",
    "- Very efficient for finding all primes in a range\n",
    "- Time complexity of $O(n \\log{\\log{n}})$ for finding all primes up to n\n",
    "\n",
    "**Disadvantages:**\n",
    "- Requires more memory (space complexity of $O(n)$)\n",
    "- Needs a good estimate of the upper bound when finding n primes"
   ]
  },
  {
   "cell_type": "markdown",
   "metadata": {},
   "source": [
    "# References\n",
    "\n",
    "1. GeeksforGeeks. \"Trial Division Algorithm for Prime Factorization.\"\n",
    "   - Provides comprehensive explanation of the trial division algorithm with implementation details\n",
    "   - Offers analysis of the algorithm's time complexity and efficiency\n",
    "   - https://www.geeksforgeeks.org/trial-division-algorithm-for-prime-factorization/\n",
    "\n",
    "2. Brilliant.org. \"Sieve of Eratosthenes.\"\n",
    "   - Contains mathematical proof and historical context for the Sieve algorithm\n",
    "   - Explains why starting from i² is more efficient in the inner loop\n",
    "   - Provides detailed complexity analysis showing O(n log log n) runtime\n",
    "   - Includes visualizations that aid in understanding how the algorithm works\n",
    "   - https://brilliant.org/wiki/sieve-of-eratosthenes/"
   ]
  },
  {
   "cell_type": "markdown",
   "metadata": {},
   "source": [
    "## Task 5: Calculating Square Root Bits\n",
    "In this task, I calculated the first 32 bits of the fractional part of the square roots of the first 100 prime numbers."
   ]
  },
  {
   "cell_type": "code",
   "execution_count": null,
   "metadata": {},
   "outputs": [
    {
     "name": "stdout",
     "output_type": "stream",
     "text": [
      "100\n"
     ]
    }
   ],
   "source": [
    "# For Task 5, reusing the sieve function from Task 4\n",
    "# First, generate enough primes to get at least 100\n",
    "primes = sieve_of_eratosthenes(550)[:100]  # Take just the first 100 primes\n",
    "print(primes)\n",
    "\n",
    "# verify the number of primes\n",
    "print(f\"Number of primes: {len(primes)}\")"
   ]
  },
  {
   "cell_type": "markdown",
   "metadata": {},
   "source": [
    "When calculating the square root of a number, we get an integer part and a fractional part:\n",
    "√n = ⌊√n⌋ + (fractional part)\n",
    "\n",
    "For example, √2 = 1.4142... where:\n",
    "- Integer part: 1\n",
    "- Fractional part: 0.4142...\n",
    "\n",
    "For prime numbers (except 2), the square root is always irrational, meaning the fractional part continues infinitely without repeating.\n"
   ]
  },
  {
   "cell_type": "markdown",
   "metadata": {},
   "source": [
    "To calculate the binary representation of a fractional part:\n",
    "\n",
    "1. Start with the fractional part f (0 ≤ f < 1)\n",
    "2. Multiply f by 2\n",
    "   - If the result ≥ 1, record a 1 bit and subtract 1\n",
    "   - If the result < 1, record a 0 bit\n",
    "3. Repeat step 2 with the new fractional part for the desired number of bits\n",
    "\n",
    "This algorithm is equivalent to expressing the fraction as powers of 1/2:\n",
    "f = b₁×(1/2) + b₂×(1/4) + b₃×(1/8) + ... + bₙ×(1/2ⁿ)\n",
    "\n",
    "Where each bᵢ is either 0 or 1, forming our binary fraction."
   ]
  },
  {
   "cell_type": "code",
   "execution_count": null,
   "metadata": {},
   "outputs": [],
   "source": [
    "def get_fractional_bits(number, num_bits=32):\n",
    "    \"\"\"\n",
    "    Calculate the first num_bits bits of the fractional part of the square root of a number.\n",
    "    \n",
    "    Args:\n",
    "        number (int): The number to find the square root of\n",
    "        num_bits (int): Number of bits to calculate in the fractional part\n",
    "        \n",
    "    Returns:\n",
    "        str: Binary string representing the fractional part\n",
    "    \"\"\"\n",
    "    # Calculate the square root\n",
    "    sqrt_value = math.sqrt(number)\n",
    "    \n",
    "    # Get just the fractional part\n",
    "    fractional_part = sqrt_value - int(sqrt_value)\n",
    "    \n",
    "    # Calculate binary representation of fractional part\n",
    "    binary_fraction = \"\"\n",
    "    for _ in range(num_bits):\n",
    "        # Multiply by 2 and check if result is >= 1\n",
    "        fractional_part *= 2\n",
    "        if fractional_part >= 1:\n",
    "            binary_fraction += \"1\"\n",
    "            fractional_part -= 1\n",
    "        else:\n",
    "            binary_fraction += \"0\"\n",
    "    \n",
    "    return binary_fraction\n"
   ]
  },
  {
   "cell_type": "markdown",
   "metadata": {},
   "source": [
    "### Implementation\n",
    "\n",
    "My implementation uses the algorithm described above to calculate the first 32 bits of the fractional part of the square roots. The `get_fractional_bits()` function:\n",
    "1. Calculates the square root using the `math.sqrt()` function\n",
    "2. Extracts just the fractional part\n",
    "3. Applies the binary fraction algorithm to obtain 32 bits"
   ]
  },
  {
   "cell_type": "code",
   "execution_count": 26,
   "metadata": {},
   "outputs": [
    {
     "name": "stdout",
     "output_type": "stream",
     "text": [
      "1. √2 fractional bits: 01101010000010011110011001100111\n",
      "2. √3 fractional bits: 10111011011001111010111010000101\n",
      "3. √5 fractional bits: 00111100011011101111001101110010\n",
      "4. √7 fractional bits: 10100101010011111111010100111010\n",
      "5. √11 fractional bits: 01010001000011100101001001111111\n",
      "6. √13 fractional bits: 10011011000001010110100010001100\n",
      "7. √17 fractional bits: 00011111100000111101100110101011\n",
      "8. √19 fractional bits: 01011011111000001100110100011001\n",
      "9. √23 fractional bits: 11001011101110111001110101011101\n",
      "10. √29 fractional bits: 01100010100110100010100100101010\n",
      "11. √31 fractional bits: 10010001010110010000000101011010\n",
      "12. √37 fractional bits: 00010101001011111110110011011000\n",
      "13. √41 fractional bits: 01100111001100110010011001100111\n",
      "14. √43 fractional bits: 10001110101101000100101010000111\n",
      "15. √47 fractional bits: 11011011000011000010111000001101\n",
      "16. √53 fractional bits: 01000111101101010100100000011101\n",
      "17. √59 fractional bits: 10101110010111111001000101010110\n",
      "18. √61 fractional bits: 11001111011011001000010111010011\n",
      "19. √67 fractional bits: 00101111011100110100011101111101\n",
      "20. √71 fractional bits: 01101101000110000010011011001010\n",
      "21. √73 fractional bits: 10001011010000111101010001010111\n",
      "22. √79 fractional bits: 11100011011000001011010110010110\n",
      "23. √83 fractional bits: 00011100010001010110000000000010\n",
      "24. √89 fractional bits: 01101111000110010110001100110001\n",
      "25. √97 fractional bits: 11011001010011101011111010110001\n",
      "26. √101 fractional bits: 00001100110001001010011000010001\n",
      "27. √103 fractional bits: 00100110000111011100000111110010\n",
      "28. √107 fractional bits: 01011000000101011010011110111110\n",
      "29. √109 fractional bits: 01110000101101111110110101100111\n",
      "30. √113 fractional bits: 10100001010100010011110001101001\n",
      "31. √127 fractional bits: 01000100111110010011011000110101\n",
      "32. √131 fractional bits: 01110010000011011100110111111101\n",
      "33. √137 fractional bits: 10110100011001110011011010011110\n",
      "34. √139 fractional bits: 11001010001100100000101101110101\n",
      "35. √149 fractional bits: 00110100111000001101010000101110\n",
      "36. √151 fractional bits: 01001001110001111101100110111101\n",
      "37. √157 fractional bits: 10000111101010111011100111110010\n",
      "38. √163 fractional bits: 11000100011000111010001011111100\n",
      "39. √167 fractional bits: 11101100001111111100001111110011\n",
      "40. √173 fractional bits: 00100111001001110111111101101101\n",
      "41. √179 fractional bits: 01100001000010111110101111110010\n",
      "42. √181 fractional bits: 01110100001000001011010010011110\n",
      "43. √191 fractional bits: 11010001111111011000101000110011\n",
      "44. √193 fractional bits: 11100100011101110011010110010100\n",
      "45. √197 fractional bits: 00001001001000011001011111110110\n",
      "46. √199 fractional bits: 00011011010100110000110010010101\n",
      "47. √211 fractional bits: 10000110100111010110001101000010\n",
      "48. √223 fractional bits: 11101110111001010010111001001111\n",
      "49. √227 fractional bits: 00010001000001110110011010001001\n",
      "50. √229 fractional bits: 00100001111110111010001101111011\n",
      "51. √233 fractional bits: 01000011101010111001111110110110\n",
      "52. √239 fractional bits: 01110101101010011111100100011101\n",
      "53. √241 fractional bits: 10000110001100000101000000011001\n",
      "54. √251 fractional bits: 11010111110011011000000101110011\n",
      "55. √257 fractional bits: 00000111111111100000000011111111\n",
      "56. √263 fractional bits: 00110111100111110101000100111111\n",
      "57. √269 fractional bits: 01100110101101100101000110101000\n",
      "58. √271 fractional bits: 01110110010010101011100001000010\n",
      "59. √277 fractional bits: 10100100101100000110101111100001\n",
      "60. √281 fractional bits: 11000011010101111000110000010101\n",
      "61. √283 fractional bits: 11010010100101100010101001010011\n",
      "62. √293 fractional bits: 00011110000000111001111101000000\n",
      "63. √307 fractional bits: 10000101011110110111101111101110\n",
      "64. √311 fractional bits: 10100010100110111111001011011110\n",
      "65. √313 fractional bits: 10110001000110100011001011101000\n",
      "66. √317 fractional bits: 11001101111100110100111010000000\n",
      "67. √331 fractional bits: 00110001100000110000010000100110\n",
      "68. √337 fractional bits: 01011011100010010000100100101011\n",
      "69. √347 fractional bits: 10100000110000000110101000010011\n",
      "70. √349 fractional bits: 10101110011110011000010000101111\n",
      "71. √353 fractional bits: 11001001110011011010011010001001\n",
      "72. √359 fractional bits: 11110010100000011111001000111001\n",
      "73. √367 fractional bits: 00101000010000010010010110010010\n",
      "74. √373 fractional bits: 01010000001011100110010011011011\n",
      "75. √379 fractional bits: 01110111110010011100001000010001\n",
      "76. √383 fractional bits: 10010010000001001100110110011101\n",
      "77. √389 fractional bits: 10111001000110111111011001100011\n",
      "78. √397 fractional bits: 11101100110000111000110010011101\n",
      "79. √401 fractional bits: 00000110011001010110000010010101\n",
      "80. √409 fractional bits: 00111001010001111001001110000001\n",
      "81. √419 fractional bits: 01111000001100000111011010010111\n",
      "82. √421 fractional bits: 10000100101011100100101101111100\n",
      "83. √431 fractional bits: 11000010101100101011011101010101\n",
      "84. √433 fractional bits: 11001111000000111101001000001110\n",
      "85. √439 fractional bits: 11110011110010111011000100010111\n",
      "86. √443 fractional bits: 00001100001011010011101101001011\n",
      "87. √449 fractional bits: 00110000100010101111000101100001\n",
      "88. √457 fractional bits: 01100000101001111010100110011000\n",
      "89. √461 fractional bits: 01111000100011011001100000010010\n",
      "90. √463 fractional bits: 10000100011101101001101101000010\n",
      "91. √467 fractional bits: 10011100001101001111000001100010\n",
      "92. √479 fractional bits: 11100010110101010110010011000100\n",
      "93. √487 fractional bits: 00010001011011010111010111111101\n",
      "94. √491 fractional bits: 00101000100101001100000100000111\n",
      "95. √499 fractional bits: 01010110100110110101100011000110\n",
      "96. √503 fractional bits: 01101101011110110011100100111001\n",
      "97. √509 fractional bits: 10001111100111111000110110111011\n",
      "98. √521 fractional bits: 11010011010011110000001111001101\n",
      "99. √523 fractional bits: 11011110100000110111001011101111\n",
      "100. √541 fractional bits: 01000010011010000111101000111001\n"
     ]
    }
   ],
   "source": [
    "# Calculate fractional bits for all 100 primes\n",
    "sqrt_bits_results = []\n",
    "for i, prime in enumerate(primes):\n",
    "    bits = get_fractional_bits(prime, 32)\n",
    "    sqrt_bits_results.append(bits)\n",
    "    print(f\"{i+1}. √{prime} fractional bits: {bits}\")"
   ]
  },
  {
   "cell_type": "markdown",
   "metadata": {},
   "source": [
    "### References\n",
    "1. Weisstein, Eric W. \"Square Root.\" From MathWorld--A Wolfram Web Resource.\n",
    "   - Contains information about properties of square roots and their representation\n",
    "   - https://mathworld.wolfram.com/SquareRoot.html"
   ]
  },
  {
   "cell_type": "markdown",
   "metadata": {},
   "source": [
    "## Task 6 Proof of Work"
   ]
  },
  {
   "cell_type": "markdown",
   "metadata": {},
   "source": [
    "### Implement Approach\n",
    "To find English words with the most leading zero bits in their SHA256 hash:\n",
    "\n",
    "1. **Hash Generation**: Each word is encoded to UTF-8 bytes and hashed using SHA256.\n",
    "2. **Bit Counting**: A custom function counts the number of consecutive zero bits at the beginning of each hash.\n",
    "3. **Dictionary Processing**: An English dictionary file is processed to examine all possible words."
   ]
  },
  {
   "cell_type": "code",
   "execution_count": null,
   "metadata": {},
   "outputs": [],
   "source": [
    "def count_leading_zero_bits(byte_string):\n",
    "    count = 0\n",
    "    for byte in byte_string:\n",
    "        # Count leading zeros in the byte\n",
    "        if byte == 0:\n",
    "            count += 8\n",
    "            continue\n",
    "        \n",
    "        # Count bits in the first non-zero byte\n",
    "        temp = byte\n",
    "        for _ in range(8):\n",
    "            if temp & 0x80 == 0:  # Check if the leftmost bit is 1\n",
    "                return count\n",
    "            count += 1\n",
    "            temp <<= 1\n",
    "        \n",
    "        return count\n",
    "    \n",
    "    return count"
   ]
  },
  {
   "cell_type": "markdown",
   "metadata": {},
   "source": [
    "### Leading Zero Bits Counting\n",
    "\n",
    "The `count_leading_zero_bits` function works by:\n",
    "1. Checking each byte from the beginning of the hash\n",
    "2. If the byte is 0x00, adding 8 to the count and continuing\n",
    "3. For the first non-zero byte, counting the leading zero bits within that byte\n",
    "4. Returning the total number of leading zero bits"
   ]
  },
  {
   "cell_type": "code",
   "execution_count": 8,
   "metadata": {},
   "outputs": [],
   "source": [
    "# Calculate SHA256 hash of a word\n",
    "def sha256_hash(word):\n",
    "\n",
    "    #Encode the word as UTF-8 bytes and calculate the SHA-256 hash\n",
    "    return hashlib.sha256(word.encode('utf-8')).digest()"
   ]
  },
  {
   "cell_type": "code",
   "execution_count": null,
   "metadata": {},
   "outputs": [],
   "source": [
    "# Find the words with the most leading zero bits in their SHA256 hash\n",
    "def find_best_words(dictionary_file, top_n=10):\n",
    "    \"\"\"\n",
    "    Find the words with the most leading zero bits in their SHA256 hash.\n",
    "    \n",
    "    Args:\n",
    "        dictionary_file (str): Path to dictionary file with one word per line\n",
    "        top_n (int): Number of top words to return\n",
    "        \n",
    "    Returns:\n",
    "        list: List of (word, zero_bits) tuples sorted by zero_bits (descending)\n",
    "    \"\"\"\n",
    "    results = []\n",
    "    \n",
    "\n",
    "    try:\n",
    "        with open(dictionary_file, 'r', encoding='utf-8', errors='ignore') as f:\n",
    "            total_words = sum(1 for _ in f)\n",
    "        \n",
    "        # Reset file pointer\n",
    "        with open(dictionary_file, 'r', encoding='utf-8', errors='ignore') as f:\n",
    "            count = 0\n",
    "            for i, line in enumerate(f):\n",
    "                # Extract word and remove whitespace\n",
    "                word = line.strip().lower()\n",
    "                \n",
    "                # Skip empty lines\n",
    "                if not word:\n",
    "                    continue\n",
    "                \n",
    "                # Calculate hash and count leading zeros\n",
    "                hash_digest = sha256_hash(word)\n",
    "                zero_bits = count_leading_zero_bits(hash_digest)\n",
    "                \n",
    "                # Store result\n",
    "                results.append((word, zero_bits))\n",
    "                \n",
    "                # Show progress every 10,000 words\n",
    "                count += 1\n",
    "                if count % 10000 == 0:\n",
    "                    print(f\"Processed {count}/{total_words} words ({count/total_words:.1%})\")\n",
    "        \n",
    "        # Sort by number of leading zeros (descending)\n",
    "        results.sort(key=lambda x: x[1], reverse=True)\n",
    "        \n",
    "        return results[:top_n]\n",
    "    \n",
    "    except FileNotFoundError:\n",
    "        print(f\"Dictionary file '{dictionary_file}' not found.\")\n",
    "        return []"
   ]
  },
  {
   "cell_type": "markdown",
   "metadata": {},
   "source": [
    "### Function of finding words with the most leading zero bits\n",
    "\n",
    "1. **Input Parameters**:\n",
    "   - `dictionary_file`: Path to a text file containing one word per line\n",
    "   - `top_n`: Number of top-performing words to return (default: 10)\n",
    "\n",
    "2. **Dictionary Processing**:\n",
    "   - The function first counts the total number of words in the dictionary for progress reporting\n",
    "   - It then reopens the file and processes each word individually\n",
    "   - Words are converted to lowercase and stripped of whitespace for consistency\n",
    "   - Empty lines are skipped\n",
    "\n",
    "3. **Hash Calculation**:\n",
    "   - For each word, we calculate its SHA-256 hash using the `sha256_hash` function\n",
    "   - This produces a 256-bit (32-byte) digest unique to that word\n",
    "\n",
    "4. **Counting Leading Zeros**:\n",
    "   - The `count_leading_zero_bits` function examines the hash digest byte by byte\n",
    "   - It counts consecutive zero bits from the beginning of the hash\n",
    "   - This represents how \"lucky\" the word is in terms of hash output\n",
    "\n",
    "5. **Results Collection**:\n",
    "   - Each word and its leading zero bit count are stored as tuples in the `results` list\n",
    "   - Progress updates are printed every 10,000 words to track performance\n",
    "\n",
    "6. **Sorting and Filtering**:\n",
    "   - After processing all words, results are sorted by the number of leading zeros (descending)\n",
    "   - Only the top `n` words with the most leading zeros are returned\n",
    "\n",
    "7. **Error Handling**:\n",
    "   - If the dictionary file is not found, an appropriate error message is displayed\n",
    "   - The function safely returns an empty list in case of errors"
   ]
  },
  {
   "cell_type": "code",
   "execution_count": 9,
   "metadata": {},
   "outputs": [
    {
     "name": "stdout",
     "output_type": "stream",
     "text": [
      "Finding words with most leading zero bits...\n",
      "Processed 10000/466550 words (2.1%)\n",
      "Processed 20000/466550 words (4.3%)\n",
      "Processed 30000/466550 words (6.4%)\n",
      "Processed 40000/466550 words (8.6%)\n",
      "Processed 50000/466550 words (10.7%)\n",
      "Processed 60000/466550 words (12.9%)\n",
      "Processed 70000/466550 words (15.0%)\n",
      "Processed 80000/466550 words (17.1%)\n",
      "Processed 90000/466550 words (19.3%)\n",
      "Processed 100000/466550 words (21.4%)\n",
      "Processed 110000/466550 words (23.6%)\n",
      "Processed 120000/466550 words (25.7%)\n",
      "Processed 130000/466550 words (27.9%)\n",
      "Processed 140000/466550 words (30.0%)\n",
      "Processed 150000/466550 words (32.2%)\n",
      "Processed 160000/466550 words (34.3%)\n",
      "Processed 170000/466550 words (36.4%)\n",
      "Processed 180000/466550 words (38.6%)\n",
      "Processed 190000/466550 words (40.7%)\n",
      "Processed 200000/466550 words (42.9%)\n",
      "Processed 210000/466550 words (45.0%)\n",
      "Processed 220000/466550 words (47.2%)\n",
      "Processed 230000/466550 words (49.3%)\n",
      "Processed 240000/466550 words (51.4%)\n",
      "Processed 250000/466550 words (53.6%)\n",
      "Processed 260000/466550 words (55.7%)\n",
      "Processed 270000/466550 words (57.9%)\n",
      "Processed 280000/466550 words (60.0%)\n",
      "Processed 290000/466550 words (62.2%)\n",
      "Processed 300000/466550 words (64.3%)\n",
      "Processed 310000/466550 words (66.4%)\n",
      "Processed 320000/466550 words (68.6%)\n",
      "Processed 330000/466550 words (70.7%)\n",
      "Processed 340000/466550 words (72.9%)\n",
      "Processed 350000/466550 words (75.0%)\n",
      "Processed 360000/466550 words (77.2%)\n",
      "Processed 370000/466550 words (79.3%)\n",
      "Processed 380000/466550 words (81.4%)\n",
      "Processed 390000/466550 words (83.6%)\n",
      "Processed 400000/466550 words (85.7%)\n",
      "Processed 410000/466550 words (87.9%)\n",
      "Processed 420000/466550 words (90.0%)\n",
      "Processed 430000/466550 words (92.2%)\n",
      "Processed 440000/466550 words (94.3%)\n",
      "Processed 450000/466550 words (96.5%)\n",
      "Processed 460000/466550 words (98.6%)\n",
      "\n",
      "Words with most leading zero bits in SHA256 hash:\n",
      "--------------------------------------------------\n",
      "| Word                | Leading Zero Bits | Hexadecimal Prefix |\n",
      "|--------------------|------------------|--------------------|\n",
      "| guilefulness         | 18               | 0x0000d79e         ... |\n",
      "| evander              | 17               | 0x0000a775         ... |\n",
      "| mismatchment         | 17               | 0x0000bb6e         ... |\n",
      "| blacktopped          | 16               | 0x00ffe375         ... |\n",
      "| goaltenders          | 16               | 0x00002e68         ... |\n",
      "| haemoglobinuria      | 16               | 0x00ff5425         ... |\n",
      "| hockenheim           | 16               | 0x00ff0f0c         ... |\n",
      "| inhumanely           | 16               | 0x00ffe39f         ... |\n",
      "| measlesproof         | 16               | 0x00ff2157         ... |\n",
      "| noncostraight        | 16               | 0x00ff5978         ... |\n",
      "| pohai                | 16               | 0x00ffa2b9         ... |\n",
      "| posterior            | 16               | 0x00ff6f13         ... |\n",
      "| reincited            | 16               | 0x00ff35e7         ... |\n",
      "| sand-colored         | 16               | 0x00ff3b66         ... |\n",
      "| strandless           | 16               | 0x00ffbf24         ... |\n",
      "| acataleptic          | 15               | 0x00fe8e06         ... |\n",
      "| automanipulation     | 15               | 0x00fe4a8b         ... |\n",
      "| crossings            | 15               | 0x00fe4056         ... |\n",
      "| newmanize            | 15               | 0x00fec8c3         ... |\n",
      "| nonrescue            | 15               | 0x00fe72c0         ... |\n",
      "--------------------------------------------------\n",
      "\n",
      "Verification: 'guilefulness' is confirmed to be in the dictionary file.\n"
     ]
    }
   ],
   "source": [
    "# Download a dictionary file if we don't have one\n",
    "dictionary_path = \"english_words.txt\"\n",
    "\n",
    "if not os.path.exists(dictionary_path):\n",
    "    print(\"Downloading English dictionary...\")\n",
    "    import urllib.request\n",
    "    # Using a commonly available word list\n",
    "    urllib.request.urlretrieve(\n",
    "        \"https://raw.githubusercontent.com/dwyl/english-words/master/words.txt\", \n",
    "        dictionary_path\n",
    "    )\n",
    "    print(f\"Downloaded dictionary to {dictionary_path}\")\n",
    "\n",
    "# Find words with most leading zero bits\n",
    "print(\"Finding words with most leading zero bits...\")\n",
    "top_words = find_best_words(dictionary_path, top_n=20)\n",
    "\n",
    "# Display results\n",
    "print(\"\\nWords with most leading zero bits in SHA256 hash:\")\n",
    "print(\"-\" * 50)\n",
    "print(\"| Word                | Leading Zero Bits | Hexadecimal Prefix |\")\n",
    "print(\"|\" + \"-\" * 20 + \"|\" + \"-\" * 18 + \"|\" + \"-\" * 20 + \"|\")\n",
    "\n",
    "for word, zeros in top_words:\n",
    "    # Get the first few bytes of the hash to show the hex representation\n",
    "    hash_hex = hashlib.sha256(word.encode('utf-8')).hexdigest()\n",
    "    hex_prefix = hash_hex[:8]  # Show first 4 bytes (8 hex characters)\n",
    "    print(f\"| {word:<20} | {zeros:<16} | 0x{hex_prefix}{'...':>12} |\")\n",
    "    \n",
    "print(\"-\" * 50)\n",
    "\n",
    "# Verify that the top word is in the dictionary\n",
    "top_word = top_words[0][0]\n",
    "with open(dictionary_path, 'r', encoding='utf-8', errors='ignore') as f:\n",
    "    dictionary_content = f.read()\n",
    "    \n",
    "if top_word in dictionary_content.split():\n",
    "    print(f\"\\nVerification: '{top_word}' is confirmed to be in the dictionary file.\")\n",
    "else:\n",
    "    print(f\"\\nVerification failed: '{top_word}' could not be found in the dictionary.\")"
   ]
  },
  {
   "cell_type": "markdown",
   "metadata": {},
   "source": [
    "### Dictionary Preparation\n",
    "\n",
    "1. **Checks for Existing Dictionary**:\n",
    "   - Looks for a file named \"english_words.txt\" in the current directory\n",
    "   - If not found, proceeds to download one automatically\n",
    "\n",
    "2. **Automatic Dictionary Download**:\n",
    "   - Uses the `urllib` library to retrieve a well-established English word list\n",
    "   - Sources the dictionary from the GitHub repository \"dwyl/english-words\"\n",
    "   - This repository contains a comprehensive collection of English words\n",
    "   - Saves the dictionary locally for processing and future use"
   ]
  },
  {
   "cell_type": "markdown",
   "metadata": {},
   "source": [
    "### Executing the Word Search\n",
    "\n",
    "With the dictionary ready, the program:\n",
    "\n",
    "1. **Initiates the Search Process**:\n",
    "   - Calls the `find_best_words` function with the dictionary path\n",
    "   - Requests the top 20 words with the most leading zero bits\n",
    "   - Displays progress messages to track the execution\n",
    "\n",
    "2. **Presenting Results**:\n",
    "   - Creates a formatted table to display the findings\n",
    "   - For each word, shows:\n",
    "     - The word itself\n",
    "     - Number of leading zero bits in its SHA-256 hash\n",
    "     - The hexadecimal prefix of the hash (first 8 characters)\n",
    "   - This presentation makes it easy to verify the results"
   ]
  },
  {
   "cell_type": "markdown",
   "metadata": {},
   "source": [
    "### Verification Process\n",
    "\n",
    "The implementation includes a critical verification step:\n",
    "\n",
    "1. **Dictionary Validation**:\n",
    "   - Takes the top-performing word (with the most leading zeros)\n",
    "   - Opens the original dictionary file\n",
    "   - Checks if the word actually exists in the dictionary\n",
    "   - Confirms that the result is a legitimate English word\n",
    "\n",
    "2. **Verification Output**:\n",
    "   - Prints a confirmation message if the word is found\n",
    "   - Reports a verification failure if the word is not found\n",
    "   - This step addresses the task requirement to prove dictionary inclusion"
   ]
  },
  {
   "cell_type": "markdown",
   "metadata": {},
   "source": [
    "### References\n",
    "\n",
    "1. NIST (2015). \"Secure Hash Standard (SHS).\" FIPS PUB 180-4.\n",
    "   - https://doi.org/10.6028/NIST.FIPS.180-4\n",
    "   - Official specification of the SHA256 algorithm used in this task\n",
    "\n",
    "2. Dwyl. \"English Words.\" GitHub Repository.\n",
    "   - https://github.com/dwyl/english-words\n",
    "   - Source of the English dictionary used for verification"
   ]
  },
  {
   "cell_type": "markdown",
   "metadata": {},
   "source": [
    "## Task 7 Turing Machines\n",
    "\n",
    "This implementation models a Turing Machine that adds 1 to a binary number. While the `binary_plus_one` function uses a procedural approach rather than explicitly modeling tape movement, it follows the same algorithmic logic a Turing Machine would use.\n"
   ]
  },
  {
   "cell_type": "markdown",
   "metadata": {},
   "source": [
    "Turing Machince consits of:\n",
    "\n",
    "1. A tape divided into cells (one symbol per cell)\n",
    "2. A head that can read/write symbols and move left or right\n",
    "3. A state register that stores the current state\n",
    "4. A transition function that tells the machine what to do based on current state and symbol read"
   ]
  },
  {
   "cell_type": "markdown",
   "metadata": {},
   "source": [
    "#### How the Algorithm Works:\n",
    "\n",
    "1. **Right-to-Left Processing**: Just as a Turing Machine would start from the least significant bit, we process digits from right to left.\n",
    "\n",
    "2. **State-Based Logic**: The carry bit (0 or 1) represents the \"state\" of our computation:\n",
    "   - If carry=1 and current digit=0, write 1 and set carry=0 (terminal state)\n",
    "   - If carry=1 and current digit=1, write 0 and keep carry=1 (continue in carry state)\n",
    "\n",
    "3. **Handling Overflow**: If we reach the leftmost digit with a carry still active, we need to add a new '1' digit at the beginning, just as a Turing Machine would extend its tape.\n"
   ]
  },
  {
   "cell_type": "markdown",
   "metadata": {},
   "source": [
    "This function:\n",
    "\n",
    "1. Takes a binary number as a string\n",
    "2. Processes each digit from right to left\n",
    "3. Follows the binary addition rules (0+1=1, 1+1=0 with carry)\n",
    "4. Adds a new leading digit if needed\n",
    "5. Returns the resulting binary number"
   ]
  },
  {
   "cell_type": "code",
   "execution_count": 1,
   "metadata": {},
   "outputs": [],
   "source": [
    "def binary_plus_one(binary_str):\n",
    "\n",
    "    # Convert the list for manipulation\n",
    "    binary_list = list(binary_str)\n",
    "\n",
    "    # Start from the rightmost digit (least significant bit)\n",
    "    i = len(binary_list) - 1\n",
    "    carry = 1\n",
    "\n",
    "    # Process each digit from right to left\n",
    "    while i >= 0 and carry > 0:\n",
    "        if binary_list[i] == '0':\n",
    "            binary_list[i] = '1'\n",
    "            carry = 0\n",
    "        # binary_list[i] == '1'\n",
    "        else:  \n",
    "            binary_list[i] = '0'\n",
    "            carry = 1\n",
    "        i -= 1\n",
    "\n",
    "    # If we still have a carry, need to add a new digit at the beginning\n",
    "    if carry > 0:\n",
    "        binary_list.insert(0, '1')\n",
    "\n",
    "    # Convert back to string and return\n",
    "    return ''.join(binary_list)\n"
   ]
  },
  {
   "cell_type": "code",
   "execution_count": 3,
   "metadata": {},
   "outputs": [
    {
     "name": "stdout",
     "output_type": "stream",
     "text": [
      "\n",
      "example: 100111 + 1 = 101000\n"
     ]
    }
   ],
   "source": [
    "example = \"100111\"\n",
    "result = binary_plus_one(example)\n",
    "print(f\"\\nexample: {example} + 1 = {result}\")"
   ]
  },
  {
   "cell_type": "markdown",
   "metadata": {},
   "source": [
    "## References\n",
    "Turing, A.M. (1936). \"On Computable Numbers, with an Application to the Entscheidungsproblem.\" Proceedings of the London Mathematical Society, 2(42), 230-265.\n",
    "\n",
    "https://www.cs.virginia.edu/~robins/Turing_Paper_1936.pdf\n",
    "\n",
    "This reference is particularly valuable for understand the fundamental theoretical basis of computation rather than just the practical implementation details."
   ]
  },
  {
   "cell_type": "markdown",
   "metadata": {},
   "source": [
    "# Task 8"
   ]
  },
  {
   "cell_type": "markdown",
   "metadata": {},
   "source": [
    "Implementation of bubble sort that counts the number of comparisons:"
   ]
  },
  {
   "cell_type": "code",
   "execution_count": null,
   "metadata": {},
   "outputs": [],
   "source": [
    "def bubble_sort(arr):\n",
    "\n",
    "    # Create a copy of the array to avoid modifying the original\n",
    "    arr = arr.copy()\n",
    "    n = len(arr)\n",
    "    comparisons = 0\n",
    "\n",
    "    # Traverse through all array elements\n",
    "    for i in range(n):\n",
    "        swapped = False\n",
    "\n",
    "        # Last i elements are already in place\n",
    "        for j in range(0, n-i-1):\n",
    "            # Count the comparison\n",
    "            comparisons += 1\n",
    "\n",
    "            # Compare adjacent elements\n",
    "            if arr[j] > arr[j+1]:\n",
    "                # Swap if needed\n",
    "                arr[j], arr[j+1] = arr[j+1], arr[j]\n",
    "                swapped = True\n",
    "        \n",
    "        # If no swaps occurred, the array is sorted\n",
    "        if not swapped:\n",
    "            break\n",
    "    return arr, comparisons"
   ]
  },
  {
   "cell_type": "code",
   "execution_count": null,
   "metadata": {},
   "outputs": [],
   "source": [
    "# Generate all permutations of a list of elements\n",
    "def generate_permutations(elements):\n",
    "    if len(elements) <= 1:\n",
    "        return [elements]\n",
    "    results = []\n",
    "    for i in range(len(elements)):\n",
    "        # Take current element\n",
    "        current = elements[i]\n",
    "        # Generate permutations of the remaining elements\n",
    "        remaining = elements[:i] + elements[i+1:]\n",
    "        remaining_permutations = generate_permutations(remaining)\n",
    "\n",
    "        # Add current element to each permutation of the remaining elements\n",
    "        for perm in remaining_permutations:\n",
    "            results.append([current] + perm)\n",
    "    \n",
    "    return results"
   ]
  },
  {
   "cell_type": "markdown",
   "metadata": {},
   "source": [
    "`generate_permutations` function using a recursive approach to generate all possible permutations of a list of elements.\n",
    "\n",
    "Here's how the recursion works:\n",
    "\n",
    "1. **Base case**: If the list has 0 or 1 elements, there's only one possible permutation (the list itself).\n",
    "\n",
    "2. **Recursive step**: For each element in the list:\n",
    "    - Take that element as the first element of a permutation\n",
    "    - Recursively generate all permutations of the remaining elements\n",
    "    - Append the current element to each of those permutations\n",
    "\n",
    "The recurrence relation can be expressed as:\n",
    "- P(n) = n * P(n-1) for n > 1\n",
    "- P(1) = 1 (base case)\n",
    "\n",
    "This is a classic recursive implementation of permutation generation, with a time complexity of O(n!) since there are n! possible permutations of n elements."
   ]
  },
  {
   "cell_type": "code",
   "execution_count": 6,
   "metadata": {},
   "outputs": [],
   "source": [
    "# L: Original ordered list\n",
    "def analyze_bubble_sort_permutations(L):\n",
    "\n",
    "    all_permutations = generate_permutations(L)\n",
    "    results = []\n",
    "    for perm in all_permutations:\n",
    "        sorted_arr, comparisons = bubble_sort(perm)\n",
    "        results.append((sorted_arr, comparisons))\n",
    "\n",
    "    # Sort by number of comparisons\n",
    "    results.sort(key=lambda x: x[1]) \n",
    "\n",
    "    # Print results\n",
    "    print(f\"Analysis of bubble sort on all {len(results)} permutations of {L}:\")\n",
    "    print(\"-\" * 50)\n",
    "    print(\"| Permutation               | Comparisons |\")\n",
    "    print(\"|---------------------------|-------------|\")\n",
    "    \n",
    "    for perm, count in results:\n",
    "        print(f\"| {str(perm):<25} | {count:<11} |\")\n",
    "    \n",
    "    # Calculate statistics\n",
    "    comparison_counts = [r[1] for r in results]\n",
    "    min_comparisons = min(comparison_counts)\n",
    "    max_comparisons = max(comparison_counts)\n",
    "    avg_comparisons = sum(comparison_counts) / len(comparison_counts)\n",
    "    \n",
    "    print(\"-\" * 50)\n",
    "    print(f\"Minimum comparisons: {min_comparisons}\")\n",
    "    print(f\"Maximum comparisons: {max_comparisons}\")\n",
    "    print(f\"Average comparisons: {avg_comparisons:.2f}\")\n"
   ]
  },
  {
   "cell_type": "code",
   "execution_count": 11,
   "metadata": {},
   "outputs": [
    {
     "name": "stdout",
     "output_type": "stream",
     "text": [
      "Analysis of bubble sort on all 24 permutations of [1, 2, 3, 4]:\n",
      "--------------------------------------------------\n",
      "| Permutation               | Comparisons |\n",
      "|---------------------------|-------------|\n",
      "| [1, 2, 3, 4]              | 3           |\n",
      "| [1, 2, 3, 4]              | 5           |\n",
      "| [1, 2, 3, 4]              | 5           |\n",
      "| [1, 2, 3, 4]              | 5           |\n",
      "| [1, 2, 3, 4]              | 5           |\n",
      "| [1, 2, 3, 4]              | 5           |\n",
      "| [1, 2, 3, 4]              | 5           |\n",
      "| [1, 2, 3, 4]              | 5           |\n",
      "| [1, 2, 3, 4]              | 6           |\n",
      "| [1, 2, 3, 4]              | 6           |\n",
      "| [1, 2, 3, 4]              | 6           |\n",
      "| [1, 2, 3, 4]              | 6           |\n",
      "| [1, 2, 3, 4]              | 6           |\n",
      "| [1, 2, 3, 4]              | 6           |\n",
      "| [1, 2, 3, 4]              | 6           |\n",
      "| [1, 2, 3, 4]              | 6           |\n",
      "| [1, 2, 3, 4]              | 6           |\n",
      "| [1, 2, 3, 4]              | 6           |\n",
      "| [1, 2, 3, 4]              | 6           |\n",
      "| [1, 2, 3, 4]              | 6           |\n",
      "| [1, 2, 3, 4]              | 6           |\n",
      "| [1, 2, 3, 4]              | 6           |\n",
      "| [1, 2, 3, 4]              | 6           |\n",
      "| [1, 2, 3, 4]              | 6           |\n",
      "--------------------------------------------------\n",
      "Minimum comparisons: 3\n",
      "Maximum comparisons: 6\n",
      "Average comparisons: 5.58\n"
     ]
    }
   ],
   "source": [
    "L = [1, 2, 3, 4]\n",
    "analyze_bubble_sort_permutations(L)"
   ]
  },
  {
   "cell_type": "code",
   "execution_count": null,
   "metadata": {},
   "outputs": [],
   "source": [
    "def plot_comparison_distribution(L):\n",
    "    \"\"\"\n",
    "    Create a histogram of comparison counts for all permutations,\n",
    "    using the recursive generate_permutations function instead of itertools.\n",
    "    \n",
    "    Args:\n",
    "        L: Original ordered list\n",
    "    \"\"\"\n",
    "    # Generate permutations using your recursive function\n",
    "    all_permutations = generate_permutations(L)\n",
    "    comparison_counts = []\n",
    "    \n",
    "    for perm in all_permutations:\n",
    "        # Your bubble_sort function already returns the sorted array and comparison count\n",
    "        _, count = bubble_sort(perm)\n",
    "        comparison_counts.append(count)\n",
    "    \n",
    "    # Create histogram\n",
    "    plt.figure(figsize=(10, 6))\n",
    "    plt.hist(comparison_counts, bins=range(min(comparison_counts), max(comparison_counts) + 2), \n",
    "             edgecolor='black', alpha=0.7)\n",
    "    plt.title(f'Distribution of Comparisons in Bubble Sort for Permutations of {L}')\n",
    "    plt.xlabel('Number of Comparisons')\n",
    "    plt.ylabel('Frequency')\n",
    "    plt.grid(axis='y', alpha=0.3)\n",
    "    plt.xticks(range(min(comparison_counts), max(comparison_counts) + 1))\n",
    "    plt.tight_layout()\n",
    "    plt.show()\n",
    "    \n",
    "    # Print additional statistics\n",
    "    print(f\"Average comparisons: {sum(comparison_counts)/len(comparison_counts):.2f}\")\n",
    "    print(f\"Most common comparison count: {max(set(comparison_counts), key=comparison_counts.count)}\")\n",
    "    print(f\"Number of permutations analyzed: {len(comparison_counts)}\")\n",
    "\n"
   ]
  },
  {
   "cell_type": "code",
   "execution_count": null,
   "metadata": {},
   "outputs": [],
   "source": [
    "#generate and display the plot\n",
    "plot_comparison_distribution(L)"
   ]
  },
  {
   "cell_type": "markdown",
   "metadata": {},
   "source": [
    "## References:\n",
    "1. GeeksforGeeks. \"Bubble Sort.\" https://www.geeksforgeeks.org/bubble-sort/\n",
    "    - Offers comprehensive visualization, optimization techniques, and practical applications of bubble sort\n",
    "        "
   ]
  }
 ],
 "metadata": {
  "kernelspec": {
   "display_name": "Python 3",
   "language": "python",
   "name": "python3"
  },
  "language_info": {
   "codemirror_mode": {
    "name": "ipython",
    "version": 3
   },
   "file_extension": ".py",
   "mimetype": "text/x-python",
   "name": "python",
   "nbconvert_exporter": "python",
   "pygments_lexer": "ipython3",
   "version": "3.12.1"
  }
 },
 "nbformat": 4,
 "nbformat_minor": 2
}
