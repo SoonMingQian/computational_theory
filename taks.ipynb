{
 "cells": [
  {
   "cell_type": "markdown",
   "metadata": {},
   "source": [
    "# Task 1: Binary Represnetations\n"
   ]
  },
  {
   "cell_type": "markdown",
   "metadata": {},
   "source": [
    "### Left Rotation \n",
    "`rotl` rotates the bits in a 32-bit unsigned integer `x` to the left by `n` places."
   ]
  },
  {
   "cell_type": "code",
   "execution_count": 24,
   "metadata": {},
   "outputs": [],
   "source": [
    "def rotl(x, n=1):\n",
    "\n",
    "    # This is to ensure x is a 32-bit unsigned integer\n",
    "    x = x & 0xFFFFFFFF \n",
    "\n",
    "    #This is to ensure n is within the range of 0 to 31\n",
    "    n = n % 32\n",
    "    \n",
    "    return ((x << n) | (x >> (32 - n))) & 0xFFFFFFFF # Return the result of rotationg x left by n bits"
   ]
  },
  {
   "cell_type": "markdown",
   "metadata": {},
   "source": [
    "### Example:"
   ]
  },
  {
   "cell_type": "code",
   "execution_count": 25,
   "metadata": {},
   "outputs": [
    {
     "name": "stdout",
     "output_type": "stream",
     "text": [
      "00000000000000000000000000000101\n",
      "00000000000000000000000000001010\n"
     ]
    }
   ],
   "source": [
    "# Left rotation \n",
    "x = 5\n",
    "print(format(x, '032b')) # 5 in 32 bits\n",
    "\n",
    "# Rotate 5 to the left by 1\n",
    "print(format(rotl(x), '032b'))"
   ]
  },
  {
   "cell_type": "markdown",
   "metadata": {},
   "source": [
    "### Right Rotation\n",
    "`rotr` rotates the bits in a 32-bit unsigned integer `x` to the right `n` places."
   ]
  },
  {
   "cell_type": "code",
   "execution_count": null,
   "metadata": {},
   "outputs": [],
   "source": [
    "def rotr(x, n=1):\n",
    "    \n",
    "    # This is to ensure x is a 32-bit unsigned integer\n",
    "    x = x & 0xFFFFFFFF \n",
    "\n",
    "    #This is to ensure n is within the range of 0 to 31\n",
    "    n = n % 32\n",
    "    return ((x >> n) | (x << (32 - n))) & 0xFFFFFFFF # Return the result of rotationg x right"
   ]
  },
  {
   "cell_type": "markdown",
   "metadata": {},
   "source": [
    "### Example:"
   ]
  },
  {
   "cell_type": "code",
   "execution_count": 23,
   "metadata": {},
   "outputs": [
    {
     "name": "stdout",
     "output_type": "stream",
     "text": [
      "00000000000000000000000000000010\n",
      "00000000000000000000000000000001\n"
     ]
    }
   ],
   "source": [
    "x = 2\n",
    "print(format(x, '032b')) # 2 in 32 bits\n",
    "\n",
    "# Rotate 2 to the right by 1\n",
    "print(format(rotr(x), '032b'))"
   ]
  }
 ],
 "metadata": {
  "kernelspec": {
   "display_name": "Python 3",
   "language": "python",
   "name": "python3"
  },
  "language_info": {
   "codemirror_mode": {
    "name": "ipython",
    "version": 3
   },
   "file_extension": ".py",
   "mimetype": "text/x-python",
   "name": "python",
   "nbconvert_exporter": "python",
   "pygments_lexer": "ipython3",
   "version": "3.12.1"
  }
 },
 "nbformat": 4,
 "nbformat_minor": 2
}
