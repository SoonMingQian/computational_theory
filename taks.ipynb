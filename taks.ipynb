{
 "cells": [
  {
   "cell_type": "markdown",
   "metadata": {},
   "source": [
    "# Task 1: Binary Represnetations\n"
   ]
  },
  {
   "cell_type": "markdown",
   "metadata": {},
   "source": [
    " *An unsigned integer is a 32-bit datum that encodes a nonnegative integer in the range [0 to 4294967295]."
   ]
  },
  {
   "cell_type": "markdown",
   "metadata": {},
   "source": [
    "### Left Rotation \n",
    "`rotl` rotates the bits in a 32-bit unsigned integer `x` to the left by `n` places."
   ]
  },
  {
   "cell_type": "code",
   "execution_count": 6,
   "metadata": {},
   "outputs": [],
   "source": [
    "# Reference: https://nvlpubs.nist.gov/nistpubs/FIPS/NIST.FIPS.180-4.pdf\n",
    "# Section 3.2 Operations on Words\n",
    "\n",
    "def rotl(x, n=1):\n",
    "\n",
    "    # This is to ensure x is a 32-bit unsigned integer\n",
    "    x = x & 0xFFFFFFFF \n",
    "\n",
    "    #This is to ensure n is within the range of 0 to 31\n",
    "    n = n % 32\n",
    "    \n",
    "    return ((x << n) | (x >> (32 - n))) & 0xFFFFFFFF # Return the result of rotationg x left by n bits"
   ]
  },
  {
   "cell_type": "markdown",
   "metadata": {},
   "source": [
    "### Example:"
   ]
  },
  {
   "cell_type": "code",
   "execution_count": 7,
   "metadata": {},
   "outputs": [
    {
     "name": "stdout",
     "output_type": "stream",
     "text": [
      "00000000000000000000000000000101\n",
      "00000000000000000000000000001010\n"
     ]
    }
   ],
   "source": [
    "# Left rotation \n",
    "x = 5\n",
    "print(format(x, '032b')) # 5 in 32 bits\n",
    "\n",
    "# Rotate 5 to the left by 1\n",
    "print(format(rotl(x), '032b'))"
   ]
  },
  {
   "cell_type": "markdown",
   "metadata": {},
   "source": [
    "### Right Rotation\n",
    "`rotr` rotates the bits in a 32-bit unsigned integer `x` to the right `n` places."
   ]
  },
  {
   "cell_type": "code",
   "execution_count": 8,
   "metadata": {},
   "outputs": [],
   "source": [
    "# Reference: https://nvlpubs.nist.gov/nistpubs/FIPS/NIST.FIPS.180-4.pdf\n",
    "# Section 3.2 Operations on Words\n",
    "\n",
    "def rotr(x, n=1):\n",
    "    \n",
    "    # This is to ensure x is a 32-bit unsigned integer\n",
    "    x = x & 0xFFFFFFFF \n",
    "\n",
    "    #This is to ensure n is within the range of 0 to 31\n",
    "    n = n % 32\n",
    "    return ((x >> n) | (x << (32 - n))) & 0xFFFFFFFF # Return the result of rotationg x right"
   ]
  },
  {
   "cell_type": "markdown",
   "metadata": {},
   "source": [
    "### Example:"
   ]
  },
  {
   "cell_type": "code",
   "execution_count": 9,
   "metadata": {},
   "outputs": [
    {
     "name": "stdout",
     "output_type": "stream",
     "text": [
      "00000000000000000000000000000010\n",
      "00000000000000000000000000000001\n"
     ]
    }
   ],
   "source": [
    "x = 2\n",
    "print(format(x, '032b')) # 2 in 32 bits\n",
    "\n",
    "# Rotate 2 to the right by 1\n",
    "print(format(rotr(x), '032b'))"
   ]
  },
  {
   "cell_type": "markdown",
   "metadata": {},
   "source": [
    "### Choice Function (ch)\n",
    "The `ch(x,y,z)` function choose bits from `y` where `x` is 1, and bits from `z` where `x` is 0.\n",
    "\n",
    "Formula: `ch(x,y,z) = (x & y) ^ (~x & z)`"
   ]
  },
  {
   "cell_type": "code",
   "execution_count": 10,
   "metadata": {},
   "outputs": [],
   "source": [
    "# Reference: https://nvlpubs.nist.gov/nistpubs/FIPS/NIST.FIPS.180-4.pdf\n",
    "# Section 4.1.1 SHA-1 Functions\n",
    "def ch(x, y, z):\n",
    "    \n",
    "    # Is to ensure all inputs are 32-bit unsigned integers\n",
    "    x = x & 0xFFFFFFFF # selector\n",
    "    y = y & 0xFFFFFFFF\n",
    "    z = z & 0xFFFFFFFF\n",
    "\n",
    "    return ((x & y) ^ (~x & z)) & 0xFFFFFFFF # Return the result of the choice function"
   ]
  },
  {
   "cell_type": "markdown",
   "metadata": {},
   "source": [
    "#### Pattern 1\n",
    "Hex: `0xFF00FF00`  \n",
    "Binary: `11111111 00000000 11111111 00000000`\n",
    "\n",
    "#### Pattern 2\n",
    "Hex: `0xAAAAAAAA`  \n",
    "Binary: `10101010 10101010 10101010 10101010`\n",
    "\n",
    "#### Pattern 3\n",
    "Hex: `0x55555555`  \n",
    "Binary: `01010101 01010101 01010101 01010101"
   ]
  },
  {
   "cell_type": "code",
   "execution_count": 11,
   "metadata": {},
   "outputs": [
    {
     "name": "stdout",
     "output_type": "stream",
     "text": [
      "x: 11111111000000001111111100000000\n",
      "y: 10101010101010101010101010101010\n",
      "z: 01010101010101010101010101010101\n",
      "r: 10101010010101011010101001010101\n"
     ]
    }
   ],
   "source": [
    "x = 0xFF00FF00  # Pattern of 1s and 0s\n",
    "y = 0xAAAAAAAA  # Pattern for bits selected by 1s in x\n",
    "z = 0x55555555  # Pattern for bits selected by 0s in x\n",
    "\n",
    "result = ch(x, y, z)\n",
    "print(f\"x: {format(x, '032b')}\")\n",
    "print(f\"y: {format(y, '032b')}\")\n",
    "print(f\"z: {format(z, '032b')}\")\n",
    "print(f\"r: {format(result, '032b')}\")"
   ]
  },
  {
   "cell_type": "markdown",
   "metadata": {},
   "source": [
    "### Majority Function (maj)\n",
    "The `maj(x,y,z)` function performs a bitwise majority vote. For each bit position, the output is 1 if at least two of the corresponding bits in x, y, and z are 1.\n",
    "\n",
    "Formula: `maj(x,y,z) = (x & y) ^ (x & z) ^ (y & z)`"
   ]
  },
  {
   "cell_type": "code",
   "execution_count": 12,
   "metadata": {},
   "outputs": [],
   "source": [
    "# Reference: https://nvlpubs.nist.gov/nistpubs/FIPS/NIST.FIPS.180-4.pdf\n",
    "# Section 4.1.1 SHA-1 Functions\n",
    "def maj(x, y, z):\n",
    "    # Ensure all inputs are 32-bit unsigned integers\n",
    "    x = x & 0xFFFFFFFF\n",
    "    y = y & 0xFFFFFFFF\n",
    "    z = z & 0xFFFFFFFF\n",
    "    \n",
    "    return ((x & y) ^ (x & z) ^ (y & z)) & 0xFFFFFFFF"
   ]
  },
  {
   "cell_type": "code",
   "execution_count": 13,
   "metadata": {},
   "outputs": [
    {
     "name": "stdout",
     "output_type": "stream",
     "text": [
      "x: 11111111000000001111111100000000\n",
      "y: 10101010101010101010101010101010\n",
      "z: 01010101010101010101010101010101\n",
      "r: 11111111000000001111111100000000\n"
     ]
    }
   ],
   "source": [
    "# Test maj function with the same patterns as ch\n",
    "x = 0xFF00FF00  # Pattern 1\n",
    "y = 0xAAAAAAAA  # Pattern 2\n",
    "z = 0x55555555  # Pattern 3\n",
    "\n",
    "result = maj(x, y, z)\n",
    "print(f\"x: {format(x, '032b')}\")\n",
    "print(f\"y: {format(y, '032b')}\")\n",
    "print(f\"z: {format(z, '032b')}\")\n",
    "print(f\"r: {format(result, '032b')}\")"
   ]
  },
  {
   "cell_type": "markdown",
   "metadata": {},
   "source": [
    "# Task 2: Hash Functions\n",
    "\n",
    "In this task, I've implemented the hash function from *The C Programming Language* by Brian Kernighan and Dennis Ritchie (K&R), converting it from C to Python.\n",
    "\n",
    "### Implementation Details\n",
    "\n",
    "The original C function:\n",
    "```c\n",
    "unsigned hash(char *s) {\n",
    "    unsigned hashval;\n",
    "    for (hashval = 0; *s != '\\0'; s++)\n",
    "        hashval = *s + 31 * hashval;\n",
    "    return hashval % 101;\n",
    "}"
   ]
  },
  {
   "cell_type": "code",
   "execution_count": 14,
   "metadata": {},
   "outputs": [
    {
     "name": "stdout",
     "output_type": "stream",
     "text": [
      "17\n"
     ]
    }
   ],
   "source": [
    "\"\"\"\n",
    "This function converts a string to an integer hash value using a polynomial rolling hash technique.\n",
    "Args: s (str): Input string to be hashed\n",
    "Returns: int: Hash value between 0 and 100 (inclusive)\n",
    "\"\"\"\n",
    "def hash_function(s):\n",
    "    hashval = 0\n",
    "    # Iterate through each character in the string\n",
    "    for char in s:\n",
    "        # Update hash by multiplying previous value by 31 and adding ASCII value of current character\n",
    "        hashval = ord(char) + 31 * hashval\n",
    "    # Take modulo 101 to keep the hash value within a fixed range\n",
    "    return hashval % 101\n",
    "\n",
    "# Test with the string \"hello\"\n",
    "print(hash_function(\"hello\"))    "
   ]
  },
  {
   "cell_type": "markdown",
   "metadata": {},
   "source": [
    "**Why 31 and 101?**\n",
    "1. **The Multiplier (31)**:\n",
    "    - 31 is a prime number, which helps in distributing hash values more uniformly\n",
    "    - It's close to a power of 2 (32 = 2⁵), which makes multiplication efficient: `31 * n = (32 * n) - n = (n << 5) - n`\n",
    "    - Empirical tests have shown that 31 produces fewer collisions compared to other small integers\n",
    "    - This number has become a de facto standard in many hash implementations (e.g., Java's `String.hashCode()`)\n",
    "\n",
    "2. **The Modulus (101)**:\n",
    "    - 101 is a prime number, which helps in creating a more uniform distribution of hash values\n",
    "    - Using a prime modulus reduces the chance of systematic patterns causing collisions\n",
    "    - The value 101 creates a hash table of reasonable size (101 buckets) for the original use case in K&R\n",
    "    - Prime moduli generally provide better distribution properties than composite numbers"
   ]
  },
  {
   "cell_type": "markdown",
   "metadata": {},
   "source": [
    "## References\n",
    "\n",
    "1. **Kernighan, B. W., & Ritchie, D. M. (1988).** *The C Programming Language (2nd ed.).* Prentice Hall.\n",
    "   - Original source of the hash function implementation discussed in this task\n",
    "\n",
    "2. **Gupta, P. (2008).** \"Why Do Hash Functions Use Prime Numbers?\" Computing Life.\n",
    "   - [https://computinglife.wordpress.com/2008/11/20/why-do-hash-functions-use-prime-numbers/](https://computinglife.wordpress.com/2008/11/20/why-do-hash-functions-use-prime-numbers/)\n",
    "\n",
    "These two references provide both the historical context and the mathematical justification for the specific values used in the hash function, which directly addresses the task requirement to \"suggest why the values 31 and 101 are used."
   ]
  },
  {
   "cell_type": "code",
   "execution_count": 15,
   "metadata": {},
   "outputs": [
    {
     "name": "stdout",
     "output_type": "stream",
     "text": [
      "Hash of 'hello': 17\n",
      "Hash of 'world': 34\n",
      "Hash of 'hello world': 13\n",
      "Hash of 'computational': 42\n",
      "Hash of 'theory': 77\n",
      "Hash of '': 0\n"
     ]
    }
   ],
   "source": [
    "# Test with additional examples\n",
    "test_strings = [\"hello\", \"world\", \"hello world\", \"computational\", \"theory\", \"\"]\n",
    "for s in test_strings:\n",
    "    print(f\"Hash of '{s}': {hash_function(s)}\")"
   ]
  },
  {
   "cell_type": "code",
   "execution_count": null,
   "metadata": {},
   "outputs": [
    {
     "name": "stdout",
     "output_type": "stream",
     "text": [
      "\n",
      "Number of unique hash values: 101\n",
      "Number of hash values with collisions: 101\n",
      "Total number of collisions: 899\n"
     ]
    }
   ],
   "source": [
    "\"\"\"\n",
    "1. Testing the hash function with several example strings\n",
    "2. Testing for collisions with a larger set of 1000 random strings\n",
    "3. Analyzing and visualizing the distribution of hash values\n",
    "These tests demonstrate how the hash function behaves in practice, which is important for explaining why the values 31 and 101 are used. \n",
    "\"\"\"\n",
    "# Check for collisions in a larger set\n",
    "import random\n",
    "import string\n",
    "\n",
    "def generate_random_string(length):\n",
    "    \"\"\"Generate a random string of fixed length\"\"\"\n",
    "    letters = string.ascii_lowercase\n",
    "    return ''.join(random.choice(letters) for _ in range(length))\n",
    "\n",
    "# Generate 1000 random strings and count collisions\n",
    "random.seed(42)  # For reproducibility\n",
    "strings = [generate_random_string(5) for _ in range(1000)]\n",
    "hashes = [hash_function(s) for s in strings]\n",
    "\n",
    "# Count occurrences of each hash value\n",
    "hash_counts = {}\n",
    "for h in hashes:\n",
    "    if h in hash_counts:\n",
    "        hash_counts[h] += 1\n",
    "    else:\n",
    "        hash_counts[h] = 1\n",
    "\n",
    "# Find collisions (hash values with more than one string)\n",
    "collisions = {h: count for h, count in hash_counts.items() if count > 1}\n",
    "\n",
    "print(f\"\\nNumber of unique hash values: {len(hash_counts)}\")\n",
    "print(f\"Number of hash values with collisions: {len(collisions)}\")\n",
    "print(f\"Total number of collisions: {sum(count-1 for count in collisions.values())}\")"
   ]
  },
  {
   "cell_type": "markdown",
   "metadata": {},
   "source": [
    "The collision testing is particularly valuable as it shows:\n",
    "- How many unique hash values are produced\n",
    "- How many hash values have collisions\n",
    "- The total number of collisions that occur\n",
    "\n",
    "This empirical evidence helps support your explanation about why prime numbers like 31 and 101 are good choices for hash functions."
   ]
  },
  {
   "cell_type": "code",
   "execution_count": null,
   "metadata": {},
   "outputs": [
    {
     "data": {
      "image/png": "[encoded data removed]",
      "text/plain": [
       "<Figure size 1200x600 with 1 Axes>"
      ]
     },
     "metadata": {},
     "output_type": "display_data"
    }
   ],
   "source": [
    "\"\"\"The visualization shows how well the hash values are distributed across the available range, which relates \n",
    "    directly to the efficiency of the hash function.\n",
    "\"\"\"\n",
    "import matplotlib.pyplot as plt\n",
    "import numpy as np\n",
    "\n",
    "plt.figure(figsize=(12, 6))\n",
    "plt.hist(hashes, bins=np.arange(0, 102) - 0.5, edgecolor='black', alpha=0.7)\n",
    "plt.title('Distribution of Hash Values')\n",
    "plt.xlabel('Hash Value')\n",
    "plt.ylabel('Frequency')\n",
    "plt.xticks(range(0, 101, 5))\n",
    "plt.grid(axis='y', alpha=0.3)\n",
    "plt.tight_layout()\n",
    "plt.show()"
   ]
  },
  {
   "cell_type": "markdown",
   "metadata": {},
   "source": [
    "**Limitations**\n",
    "\n",
    "This hash function has several limitations:\n",
    "- The small range(0-100) means collisions are inevitable with larger input sets\n",
    "- The alogorithm is simple and doesnt cause the small changes in input causing large changes in output.\n",
    "- For very long strings, integer overflow might be a concern in languages with fixed-size integers."
   ]
  },
  {
   "cell_type": "markdown",
   "metadata": {},
   "source": [
    "**Real-world Applications**\n",
    "\n",
    "This hash function was designed for hash tables in C programs where:\n",
    "- Speed is more important than cryptographic security\n",
    "- The data set size is relatively small compared to the hash table size\n",
    "- A simple implementation is preferred over complex algorithms."
   ]
  },
  {
   "cell_type": "markdown",
   "metadata": {},
   "source": [
    "# Task 3: SHA256 Padding\n"
   ]
  },
  {
   "cell_type": "code",
   "execution_count": null,
   "metadata": {},
   "outputs": [],
   "source": [
    "\"\"\"\n",
    "    Calculate the SHA-256 padding that would be applied to a file.\n",
    "    \n",
    "    Args:\n",
    "        file_path (str): Path to the file to calculate padding for\n",
    "        \n",
    "    Returns:\n",
    "        bytes: The padding that would be applied to the file\n",
    "        \n",
    "    According to FIPS 180-4 (Secure Hash Standard), the padding consists of:\n",
    "    1. A '1' bit\n",
    "    2. Enough '0' bits so the total message length in bits is congruent to 448 modulo 512\n",
    "    3. The original message length as a 64-bit big-endian integer\n",
    "    \"\"\"\n",
    "def calculate_sha256_padding(file_path):\n",
    "    # Read the file contents\n",
    "    try:\n",
    "        with open(file_path, 'rb') as file:\n",
    "            content = file.read()\n",
    "    except FileNotFoundError:\n",
    "        print(f\"Error: File '{file_path}' not found.\")\n",
    "        return None\n",
    "    except Exception as e:\n",
    "        print(f\"Error reading file: {e}\")\n",
    "        return None\n",
    "    \n",
    "    # Calculate the length of the original message in bits\n",
    "    original_length_bits = len(content) * 8\n",
    "\n",
    "    # Calculate the padding\n",
    "    # Start with the mandatory '1' bit (as a byte 0x80 = binary 10000000)\n",
    "    padding = bytearray([0x80])\n",
    "\n",
    "    # Calculate how many zero bytes we need\n",
    "    # We need the final message length to be a multiple of 512 bits (64 bytes)\n",
    "    # The last 8 bytes are reserved for the length field\n",
    "    # So we need: original_length + 1 + padding_zeros + 8 ≡ 0 (mod 64)\n",
    "    # Therefore: padding_zeros = 64 - ((original_length + 1 + 8) % 64)\n",
    "    # If the result is 64, we set it to 0 (already a multiple of 64)\n",
    "    padding_zeros = 56 - (len(content) + 1) % 64 # 56 = 64 - 8\n",
    "    if padding_zeros < 0:\n",
    "        padding_zeros += 64 # Ensure positive \n",
    "    \n",
    "    # Add the zero bytes\n",
    "    padding.extend([0] * padding_zeros)\n",
    "\n",
    "    # Add the original length as a 64-bit big-endian integer\n",
    "    # Convert original length to 8 bytes (64 bits)\n",
    "    length_bytes = original_length_bits.to_bytes(8, byteorder='big')\n",
    "    padding.extend(length_bytes)\n",
    "\n",
    "    return bytes(padding)\n",
    "\n"
   ]
  },
  {
   "cell_type": "code",
   "execution_count": null,
   "metadata": {},
   "outputs": [],
   "source": [
    "\"\"\"\n",
    "    Print the padding bytes in hexadecimal format, with 26 bytes per line.\n",
    "    \n",
    "    Args:\n",
    "        padding (bytes): The padding bytes to print\n",
    "\"\"\"\n",
    "def print_padding_hex(padding):\n",
    "    if padding is None:\n",
    "        return\n",
    "    \n",
    "    # Format each byte as a two-character hex string (e.g., '80' for byte 128)\n",
    "    hex_values = [f\"{b:02X}\" for b in padding]\n",
    "    \n",
    "    # Print 26 bytes per line as in the example\n",
    "    line_length = 26\n",
    "    for i in range(0, len(hex_values), line_length):\n",
    "        line = hex_values[i:i+line_length]\n",
    "        print(\" \".join(line))"
   ]
  },
  {
   "cell_type": "code",
   "execution_count": null,
   "metadata": {},
   "outputs": [
    {
     "name": "stdout",
     "output_type": "stream",
     "text": [
      "SHA-256 padding for a file containing 'abc':\n",
      "80 00 00 00 00 00 00 00 00 00 00 00 00 00 00 00 00 00 00 00 00 00 00 00 00 00\n",
      "00 00 00 00 00 00 00 00 00 00 00 00 00 00 00 00 00 00 00 00 00 00 00 00 00 00\n",
      "00 00 00 00 00 00 00 00 18\n",
      "\n",
      "Verification of the expected output:\n",
      "80 00 00 00 00 00 00 00 00 00 00 00 00 00 00 00 00 00 00 00 00 00 00 00 00 00\n",
      "00 00 00 00 00 00 00 00 00 00 00 00 00 00 00 00 00 00 00 00 00 00 00 00 00 00\n",
      "00 00 00 00 00 00 00 00 18\n",
      "\n",
      "Padding matches expected output: True\n"
     ]
    }
   ],
   "source": [
    "# Calculate and print the padding\n",
    "print(\"SHA-256 padding for a file containing 'abc':\")\n",
    "padding = calculate_sha256_padding('./temp.txt')\n",
    "print_padding_hex(padding)\n"
   ]
  }
 ],
 "metadata": {
  "kernelspec": {
   "display_name": "Python 3",
   "language": "python",
   "name": "python3"
  },
  "language_info": {
   "codemirror_mode": {
    "name": "ipython",
    "version": 3
   },
   "file_extension": ".py",
   "mimetype": "text/x-python",
   "name": "python",
   "nbconvert_exporter": "python",
   "pygments_lexer": "ipython3",
   "version": "3.12.1"
  }
 },
 "nbformat": 4,
 "nbformat_minor": 2
}
